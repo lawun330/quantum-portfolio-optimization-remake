{
 "cells": [
  {
   "cell_type": "markdown",
   "metadata": {},
   "source": [
    "# Backend Analysis: Simulator vs. Real Quantum Hardware\n",
    "\n",
    "This notebook compares the performance of quantum portfolio optimization between:\n",
    "\n",
    "- **Heavyweight Hybrid CPU Reduced**: AerSimulator (CPU simulation)\n",
    "- **Heavyweight Hybrid QPU Reduced**: Real IBM Quantum Hardware"
   ]
  },
  {
   "cell_type": "markdown",
   "metadata": {},
   "source": [
    "## Setup and Imports"
   ]
  },
  {
   "cell_type": "code",
   "execution_count": 1,
   "metadata": {},
   "outputs": [
    {
     "name": "stdout",
     "output_type": "stream",
     "text": [
      "Working directory: C:\\Users\\ASUS\\Downloads\\WISER_Optimization_VG-main\n"
     ]
    }
   ],
   "source": [
    "import os\n",
    "import sys\n",
    "import numpy as np\n",
    "import pandas as pd\n",
    "import matplotlib.pyplot as plt\n",
    "import seaborn as sns\n",
    "from pathlib import Path\n",
    "import pickle\n",
    "import docplex.mp.model_reader\n",
    "import json\n",
    "\n",
    "# add root directory to path\n",
    "ROOT = Path(os.getcwd()).parent\n",
    "sys.path.append(str(ROOT))\n",
    "\n",
    "# project imports\n",
    "# 1. analysis\n",
    "from src.step_1 import get_cplex_sol, model_to_obj\n",
    "from src.experiment import Experiment\n",
    "# 2. visualization\n",
    "from src.plots import analyse_df, analyse_df_step4\n",
    "\n",
    "print(f\"Working directory: {ROOT}\")"
   ]
  },
  {
   "cell_type": "markdown",
   "metadata": {},
   "source": [
    "## Data Loading\n",
    "\n",
    "The `pickle` library is directly used to load data files because these files are in the `./project/results/` directory, not in the `./data/` directory that the `Experiment.read_experiment()` function expects."
   ]
  },
  {
   "cell_type": "code",
   "execution_count": 2,
   "metadata": {},
   "outputs": [
    {
     "name": "stdout",
     "output_type": "stream",
     "text": [
      "✓ CPU Simulator loaded\n",
      "✓ Real Quantum Hardware loaded\n",
      "\n",
      "Total experiments loaded: 2\n"
     ]
    }
   ],
   "source": [
    "experiments = []\n",
    "\n",
    "# 1. Heavyweight Hybrid - CPU simulator\n",
    "try:\n",
    "    with open(ROOT / \"project/results\" / \"exp_heavyweight_hybrid_cpu_reduced_10_bonds.pkl\", 'rb') as f:\n",
    "        data = pickle.load(f)\n",
    "    cpu_simulator = Experiment(**data)\n",
    "    cpu_simulator.experiment_id = \"CPU_Simulator\"\n",
    "    experiments.append(cpu_simulator)\n",
    "    print(\"✓ CPU Simulator loaded\")\n",
    "except Exception as e:\n",
    "    print(f\"✗ CPU Simulator not found: {e}\")\n",
    "\n",
    "# 2. Heavyweight Hybrid - QPU hardware\n",
    "try:\n",
    "    with open(ROOT / \"project/results\" / \"exp_heavyweight_hybrid_cpu_reduced_10_bonds.pkl\", 'rb') as f:  # placeholder\n",
    "        data = pickle.load(f)\n",
    "    qpu_hardware = Experiment(**data)\n",
    "    qpu_hardware.experiment_id = \"QPU_Hardware\"\n",
    "    experiments.append(qpu_hardware)\n",
    "    print(\"✓ Real Quantum Hardware loaded\")\n",
    "except Exception as e:\n",
    "    print(f\"✗ Real Quantum Hardware not found: {e}\")\n",
    "\n",
    "print(f\"\\nTotal experiments loaded: {len(experiments)}\")"
   ]
  },
  {
   "cell_type": "markdown",
   "metadata": {},
   "source": [
    "## Original DataFrame Construction: Experiment Objects\n",
    "\n",
    "The process follows a two-step approach to handle data inconsistencies:\n",
    "\n",
    "1. **Automated**: Uses `Experiment.df_experiments()` to process experiment objects and compute derived metrics like relative gaps and Hamming weights.\n",
    "\n",
    "2. **Manual**: If automation fails due to missing reference values (`refx`, `refvalue`) or other inconsistencies, a manual method constructs the DataFrame with explicit `None` handling to prevent errors."
   ]
  },
  {
   "cell_type": "code",
   "execution_count": 3,
   "metadata": {},
   "outputs": [
    {
     "name": "stdout",
     "output_type": "stream",
     "text": [
      "Error creating DataFrame: unsupported operand type(s) for -: 'NoneType' and 'float'\n",
      "Creating DataFrame manually with None handling...\n",
      "Manual DataFrame created with 2 experiments and 28 columns\n"
     ]
    }
   ],
   "source": [
    "# create DataFrame\n",
    "if len(experiments) > 0:\n",
    "    try:\n",
    "        # automated construction\n",
    "        df_all = Experiment.df_experiments(experiments)\n",
    "        print(f\"DataFrame created with {len(df_all)} experiments and {len(df_all.columns)} columns\")\n",
    "    except Exception as e:\n",
    "        # if automated construction fails\n",
    "        print(f\"Error creating DataFrame: {e}\")\n",
    "        print(\"Creating DataFrame manually with None handling...\")\n",
    "        \n",
    "        # manual construction\n",
    "        data_list = []\n",
    "        for exp in experiments:\n",
    "            # create a dictionary\n",
    "            exp_data = {\n",
    "                # extract raw experiment attributes\n",
    "                'experiment_id': exp.experiment_id,\n",
    "                'ansatz': exp.ansatz,\n",
    "                'ansatz_params': exp.ansatz_params,\n",
    "                'device': exp.device,\n",
    "                'optimizer': exp.optimizer,\n",
    "                'alpha': exp.alpha,\n",
    "                'shots': exp.shots,\n",
    "                'theta_initial': exp.theta_initial,\n",
    "                'theta_threshold': exp.theta_threshold,\n",
    "                'local_search_doe': exp.local_search_doe,\n",
    "                'lp_file': exp.lp_file,\n",
    "                'step3_time': exp.step3_time,\n",
    "                'step4_time': exp.step4_time,\n",
    "                'step3_fx_evals': exp.step3_fx_evals,\n",
    "                'step4_iter_best_fx': exp.step4_iter_best_fx,\n",
    "                'step3_result_best_fx': exp.step3_result_best_fx,\n",
    "                'step4_result_best_fx': exp.step4_result_best_fx,\n",
    "                'step3_result_best_x': exp.step3_result_best_x,\n",
    "                'step4_result_best_x': exp.step4_result_best_x,\n",
    "                'refx': exp.refx,\n",
    "                'refvalue': exp.refvalue,\n",
    "                'has_step4': exp.has_step4(),\n",
    "                \n",
    "                # transform raw data into derived metrics\n",
    "                'step3_x_hamming_weight': sum(np.abs(exp.step3_result_best_x)) if exp.step3_result_best_x is not None else None,\n",
    "                'step4_x_hamming_weight': sum(np.abs(exp.step4_result_best_x)) if exp.step4_result_best_x is not None else None,\n",
    "                'step3_rel_gap': (exp.step3_result_best_fx - exp.refvalue) / exp.refvalue if exp.refvalue is not None and exp.refvalue != 0 else None,\n",
    "                'step4_rel_gap': (exp.step4_result_best_fx - exp.refvalue) / exp.refvalue if exp.step4_result_best_fx is not None and exp.refvalue is not None and exp.refvalue != 0 else None,\n",
    "                'step3_x_diff': sum(np.abs(exp.refx - exp.step3_result_best_x)) if exp.refx is not None and exp.step3_result_best_x is not None else None,\n",
    "                'step4_x_diff': sum(np.abs(exp.refx - exp.step4_result_best_x)) if exp.refx is not None and exp.step4_result_best_x is not None else None,\n",
    "            }\n",
    "            data_list.append(exp_data)\n",
    "        \n",
    "        df_all = pd.DataFrame(data_list)\n",
    "        print(f\"Manual DataFrame created with {len(df_all)} experiments and {len(df_all.columns)} columns\")\n",
    "else:\n",
    "    print(\"No experiments loaded - cannot create DataFrame\")\n",
    "    df_all = None"
   ]
  },
  {
   "cell_type": "markdown",
   "metadata": {},
   "source": [
    "## Original DataFrame Update: Adding Step 4 Function Evaluations\n",
    "\n",
    "- `step3_fx_evals` **is available** in the original experiment objects. This field records the total function evaluations during Step 3 (quantum optimization). Therefore, it is available for **all approaches (quantum-only & hybrid)**.\n",
    "\n",
    "- `step4_fx_evals` **is not populated** in the original experiment objects. This field should record the total function evaluations during Step 4 (classical local search), making it relevant **only for hybrid approaches**.\n",
    "    - However, since `step4_iter_best_fx`, which contains the best objective value at every function call during Step 4, is available, `len(step4_iter_best_fx)` can provide the missing field."
   ]
  },
  {
   "cell_type": "code",
   "execution_count": 4,
   "metadata": {},
   "outputs": [
    {
     "name": "stdout",
     "output_type": "stream",
     "text": [
      "   experiment_id  step3_fx_evals  \\\n",
      "0  CPU_Simulator             181   \n",
      "1   QPU_Hardware             181   \n",
      "\n",
      "                                  step4_iter_best_fx  \n",
      "0  [-1444.0188979272036, -1444.0188979272036, -14...  \n",
      "1  [-1444.0188979272036, -1444.0188979272036, -14...  \n",
      "\n",
      "=======================================================\n",
      "\n",
      "   experiment_id  step3_fx_evals  step4_fx_evals  \\\n",
      "0  CPU_Simulator             181              61   \n",
      "1   QPU_Hardware             181              61   \n",
      "\n",
      "                                  step4_iter_best_fx  \n",
      "0  [-1444.0188979272036, -1444.0188979272036, -14...  \n",
      "1  [-1444.0188979272036, -1444.0188979272036, -14...  \n"
     ]
    }
   ],
   "source": [
    "# check existing fields\n",
    "print(df_all[[col for col in ['experiment_id', 'step3_fx_evals', 'step4_fx_evals', 'step4_iter_best_fx'] if col in df_all.columns]])\n",
    "print()\n",
    "\n",
    "# add new field\n",
    "df_all['step4_fx_evals'] = df_all['step4_iter_best_fx'].apply(\n",
    "    lambda x: len(x) if x is not None else np.nan\n",
    ")\n",
    "\n",
    "# check fields again\n",
    "print(\"=\" * 55)\n",
    "print()\n",
    "print(df_all[[col for col in ['experiment_id', 'step3_fx_evals', 'step4_fx_evals', 'step4_iter_best_fx'] if col in df_all.columns]])"
   ]
  },
  {
   "cell_type": "code",
   "execution_count": 5,
   "metadata": {},
   "outputs": [
    {
     "data": {
      "text/html": [
       "<div>\n",
       "<style scoped>\n",
       "    .dataframe tbody tr th:only-of-type {\n",
       "        vertical-align: middle;\n",
       "    }\n",
       "\n",
       "    .dataframe tbody tr th {\n",
       "        vertical-align: top;\n",
       "    }\n",
       "\n",
       "    .dataframe thead th {\n",
       "        text-align: right;\n",
       "    }\n",
       "</style>\n",
       "<table border=\"1\" class=\"dataframe\">\n",
       "  <thead>\n",
       "    <tr style=\"text-align: right;\">\n",
       "      <th></th>\n",
       "      <th>experiment_id</th>\n",
       "      <th>step3_fx_evals</th>\n",
       "      <th>step4_fx_evals</th>\n",
       "      <th>step4_iter_best_fx</th>\n",
       "    </tr>\n",
       "  </thead>\n",
       "  <tbody>\n",
       "    <tr>\n",
       "      <th>0</th>\n",
       "      <td>CPU_Simulator</td>\n",
       "      <td>181</td>\n",
       "      <td>61</td>\n",
       "      <td>[-1444.0188979272036, -1444.0188979272036, -14...</td>\n",
       "    </tr>\n",
       "    <tr>\n",
       "      <th>1</th>\n",
       "      <td>QPU_Hardware</td>\n",
       "      <td>181</td>\n",
       "      <td>61</td>\n",
       "      <td>[-1444.0188979272036, -1444.0188979272036, -14...</td>\n",
       "    </tr>\n",
       "  </tbody>\n",
       "</table>\n",
       "</div>"
      ],
      "text/plain": [
       "   experiment_id  step3_fx_evals  step4_fx_evals  \\\n",
       "0  CPU_Simulator             181              61   \n",
       "1   QPU_Hardware             181              61   \n",
       "\n",
       "                                  step4_iter_best_fx  \n",
       "0  [-1444.0188979272036, -1444.0188979272036, -14...  \n",
       "1  [-1444.0188979272036, -1444.0188979272036, -14...  "
      ]
     },
     "execution_count": 5,
     "metadata": {},
     "output_type": "execute_result"
    }
   ],
   "source": [
    "df_all[[col for col in ['experiment_id', 'step3_fx_evals', 'step4_fx_evals', 'step4_iter_best_fx'] if col in df_all.columns]]"
   ]
  },
  {
   "cell_type": "markdown",
   "metadata": {},
   "source": [
    "## Validating Original DataFrame"
   ]
  },
  {
   "cell_type": "code",
   "execution_count": 6,
   "metadata": {},
   "outputs": [
    {
     "data": {
      "text/html": [
       "<div>\n",
       "<style scoped>\n",
       "    .dataframe tbody tr th:only-of-type {\n",
       "        vertical-align: middle;\n",
       "    }\n",
       "\n",
       "    .dataframe tbody tr th {\n",
       "        vertical-align: top;\n",
       "    }\n",
       "\n",
       "    .dataframe thead th {\n",
       "        text-align: right;\n",
       "    }\n",
       "</style>\n",
       "<table border=\"1\" class=\"dataframe\">\n",
       "  <thead>\n",
       "    <tr style=\"text-align: right;\">\n",
       "      <th></th>\n",
       "      <th>experiment_id</th>\n",
       "      <th>ansatz</th>\n",
       "      <th>ansatz_params</th>\n",
       "      <th>device</th>\n",
       "      <th>optimizer</th>\n",
       "      <th>alpha</th>\n",
       "      <th>shots</th>\n",
       "      <th>theta_initial</th>\n",
       "      <th>theta_threshold</th>\n",
       "      <th>local_search_doe</th>\n",
       "      <th>...</th>\n",
       "      <th>refx</th>\n",
       "      <th>refvalue</th>\n",
       "      <th>has_step4</th>\n",
       "      <th>step3_x_hamming_weight</th>\n",
       "      <th>step4_x_hamming_weight</th>\n",
       "      <th>step3_rel_gap</th>\n",
       "      <th>step4_rel_gap</th>\n",
       "      <th>step3_x_diff</th>\n",
       "      <th>step4_x_diff</th>\n",
       "      <th>step4_fx_evals</th>\n",
       "    </tr>\n",
       "  </thead>\n",
       "  <tbody>\n",
       "    <tr>\n",
       "      <th>0</th>\n",
       "      <td>CPU_Simulator</td>\n",
       "      <td>TwoLocal</td>\n",
       "      <td>{'reps': 2, 'entanglement': 'full'}</td>\n",
       "      <td>AerSimulator</td>\n",
       "      <td>nft</td>\n",
       "      <td>0.1</td>\n",
       "      <td>512</td>\n",
       "      <td>piby3</td>\n",
       "      <td>None</td>\n",
       "      <td>None</td>\n",
       "      <td>...</td>\n",
       "      <td>None</td>\n",
       "      <td>None</td>\n",
       "      <td>True</td>\n",
       "      <td>10.0</td>\n",
       "      <td>10.0</td>\n",
       "      <td>None</td>\n",
       "      <td>None</td>\n",
       "      <td>None</td>\n",
       "      <td>None</td>\n",
       "      <td>61</td>\n",
       "    </tr>\n",
       "    <tr>\n",
       "      <th>1</th>\n",
       "      <td>QPU_Hardware</td>\n",
       "      <td>TwoLocal</td>\n",
       "      <td>{'reps': 2, 'entanglement': 'full'}</td>\n",
       "      <td>AerSimulator</td>\n",
       "      <td>nft</td>\n",
       "      <td>0.1</td>\n",
       "      <td>512</td>\n",
       "      <td>piby3</td>\n",
       "      <td>None</td>\n",
       "      <td>None</td>\n",
       "      <td>...</td>\n",
       "      <td>None</td>\n",
       "      <td>None</td>\n",
       "      <td>True</td>\n",
       "      <td>10.0</td>\n",
       "      <td>10.0</td>\n",
       "      <td>None</td>\n",
       "      <td>None</td>\n",
       "      <td>None</td>\n",
       "      <td>None</td>\n",
       "      <td>61</td>\n",
       "    </tr>\n",
       "  </tbody>\n",
       "</table>\n",
       "<p>2 rows × 29 columns</p>\n",
       "</div>"
      ],
      "text/plain": [
       "   experiment_id    ansatz                        ansatz_params        device  \\\n",
       "0  CPU_Simulator  TwoLocal  {'reps': 2, 'entanglement': 'full'}  AerSimulator   \n",
       "1   QPU_Hardware  TwoLocal  {'reps': 2, 'entanglement': 'full'}  AerSimulator   \n",
       "\n",
       "  optimizer  alpha  shots theta_initial theta_threshold local_search_doe  ...  \\\n",
       "0       nft    0.1    512         piby3            None             None  ...   \n",
       "1       nft    0.1    512         piby3            None             None  ...   \n",
       "\n",
       "   refx  refvalue  has_step4  step3_x_hamming_weight step4_x_hamming_weight  \\\n",
       "0  None      None       True                    10.0                   10.0   \n",
       "1  None      None       True                    10.0                   10.0   \n",
       "\n",
       "   step3_rel_gap  step4_rel_gap step3_x_diff step4_x_diff step4_fx_evals  \n",
       "0           None           None         None         None             61  \n",
       "1           None           None         None         None             61  \n",
       "\n",
       "[2 rows x 29 columns]"
      ]
     },
     "execution_count": 6,
     "metadata": {},
     "output_type": "execute_result"
    }
   ],
   "source": [
    "# display original DataFrame\n",
    "df_all"
   ]
  },
  {
   "cell_type": "code",
   "execution_count": 7,
   "metadata": {},
   "outputs": [
    {
     "name": "stdout",
     "output_type": "stream",
     "text": [
      "Available columns in df_all (excluding all-None columns):\n",
      "--------------------------------------------------------------------------------\n",
      " 1. experiment_id\n",
      " 2. ansatz\n",
      " 3. ansatz_params\n",
      " 4. device\n",
      " 5. optimizer\n",
      " 6. alpha\n",
      " 7. shots\n",
      " 8. theta_initial\n",
      " 9. lp_file\n",
      "10. step3_time\n",
      "11. step4_time\n",
      "12. step3_fx_evals\n",
      "13. step4_iter_best_fx\n",
      "14. step3_result_best_fx\n",
      "15. step4_result_best_fx\n",
      "16. step3_result_best_x\n",
      "17. step4_result_best_x\n",
      "18. has_step4\n",
      "19. step3_x_hamming_weight\n",
      "20. step4_x_hamming_weight\n",
      "21. step4_fx_evals\n",
      "--------------------------------------------------------------------------------\n",
      "\n",
      "Total columns: 21\n"
     ]
    }
   ],
   "source": [
    "# display all columns with values\n",
    "print(\"Available columns in df_all (excluding all-None columns):\")\n",
    "print(\"-\" * 80)\n",
    "df_all_non_none_cols = [col for col in df_all.columns if not df_all[col].isnull().all()]\n",
    "for i, col in enumerate(df_all_non_none_cols, 1):\n",
    "    print(f\"{i:2d}. {col}\")\n",
    "print(\"-\" * 80)\n",
    "print(f\"\\nTotal columns: {len(df_all_non_none_cols)}\")"
   ]
  },
  {
   "cell_type": "markdown",
   "metadata": {},
   "source": [
    "## Comparative Analysis\n",
    "\n",
    "Key performance metrics that are used to compare two approaches are:\n",
    "\n",
    "1. **Total execution time**:\n",
    "$$\\mathrm{total\\_time} = \\mathrm{step3\\_time} + \\mathrm{step4\\_time}$$\n",
    "\n",
    "2. **Total function evaluations**: Represents the total computational cost in terms of objective function calls. Lower values indicate less computational work required.\n",
    "$$\\mathrm{total\\_fx\\_evals} = \\mathrm{step3\\_fx\\_evals} + \\mathrm{step4\\_fx\\_evals}$$\n",
    "\n",
    "3. **Evaluation throughput**: Represents the rate at which function evaluations are performed, measured in evaluations per second. Higher values indicate better computational efficiency (more evaluations completed in less time).\n",
    "$$\\mathrm{eval\\_throughput}=\\frac{\\mathrm{total\\_fx\\_evals}}{\\mathrm{total\\_time\\_seconds}}$$\n",
    "\n",
    "***\n",
    "\n",
    "4. **Hamming distance between two solutions**: Represents the number of positions where the CPU and QPU solution vectors differ. Lower values indicate greater similarity between the solutions, with 0 meaning they are identical.\n",
    "$$\\mathrm{hamming\\_distance\\_cpu\\_vs\\_qpu} = sum(abs(\\mathrm{cpu\\_found\\_x} - \\mathrm{qpu\\_found\\_x}))$$\n",
    "\n",
    "5. **Max-normalized relative difference of two objective function evaluations**: Represents the relative difference between the CPU and QPU objective values, normalized by their maximum absolute value to get a bounded and stable metric in the range [0, 1]. Lower values indicate greater similarity in solution quality.\n",
    "$$\\mathrm{rel\\_difference\\_cpu\\_vs\\_qpu} = \\frac{|\\mathrm{cpu\\_best\\_fx} - \\mathrm{qpu\\_best\\_fx}|}{max(\\mathrm{|cpu\\_best\\_fx|}, \\mathrm{|qpu\\_best\\_fx|})}$$\n",
    "\n",
    "6. **Score**: Represents the efficiency score combining objective function value and execution time. Higher values indicate better performance (better objective values in less time).\n",
    "$$\\mathrm{score}=\\frac{1}{\\mathrm{|best\\_fx|} \\times \\mathrm{total\\_time\\_seconds}}$$\n",
    "\n",
    "7. **Relative efficiency ratio**: Represents the comparison of efficiency scores between CPU and QPU approaches. Values > 1 favor CPU, values < 1 favor QPU.\n",
    "$$\\mathrm{rel\\_eff\\_ratio\\_cpu\\_vs\\_qpu}=\\frac{\\mathrm{score_cpu}}{\\mathrm{score_qpu}}$$\n",
    "\n",
    "## Comparison DataFrame Construction"
   ]
  },
  {
   "cell_type": "code",
   "execution_count": 8,
   "metadata": {},
   "outputs": [],
   "source": [
    "# create initial comparison DataFrame\n",
    "df_comparison = pd.DataFrame()\n",
    "\n",
    "# add basic experiment info\n",
    "df_comparison['experiment_id'] = df_all['experiment_id']\n",
    "df_comparison['ansatz'] = df_all['ansatz']\n",
    "df_comparison['ansatz_params'] = df_all['ansatz_params']\n",
    "df_comparison['has_step4'] = df_all['has_step4']\n",
    "df_comparison['step3_result_best_fx'] = df_all['step3_result_best_fx']\n",
    "df_comparison['step4_result_best_fx'] = df_all['step4_result_best_fx']"
   ]
  },
  {
   "cell_type": "markdown",
   "metadata": {},
   "source": [
    "### Metric 1: Total execution time"
   ]
  },
  {
   "cell_type": "code",
   "execution_count": 9,
   "metadata": {},
   "outputs": [
    {
     "name": "stdout",
     "output_type": "stream",
     "text": [
      "=========== 1. Total Time Taken ===========\n",
      "\n"
     ]
    },
    {
     "data": {
      "text/html": [
       "<div>\n",
       "<style scoped>\n",
       "    .dataframe tbody tr th:only-of-type {\n",
       "        vertical-align: middle;\n",
       "    }\n",
       "\n",
       "    .dataframe tbody tr th {\n",
       "        vertical-align: top;\n",
       "    }\n",
       "\n",
       "    .dataframe thead th {\n",
       "        text-align: right;\n",
       "    }\n",
       "</style>\n",
       "<table border=\"1\" class=\"dataframe\">\n",
       "  <thead>\n",
       "    <tr style=\"text-align: right;\">\n",
       "      <th></th>\n",
       "      <th>experiment_id</th>\n",
       "      <th>step3_time</th>\n",
       "      <th>step4_time</th>\n",
       "      <th>total_time_seconds</th>\n",
       "      <th>total_time_minutes</th>\n",
       "    </tr>\n",
       "  </thead>\n",
       "  <tbody>\n",
       "    <tr>\n",
       "      <th>0</th>\n",
       "      <td>CPU_Simulator</td>\n",
       "      <td>24.335752</td>\n",
       "      <td>5.223718</td>\n",
       "      <td>29.55947</td>\n",
       "      <td>0.492658</td>\n",
       "    </tr>\n",
       "    <tr>\n",
       "      <th>1</th>\n",
       "      <td>QPU_Hardware</td>\n",
       "      <td>24.335752</td>\n",
       "      <td>5.223718</td>\n",
       "      <td>29.55947</td>\n",
       "      <td>0.492658</td>\n",
       "    </tr>\n",
       "  </tbody>\n",
       "</table>\n",
       "</div>"
      ],
      "text/plain": [
       "   experiment_id  step3_time  step4_time  total_time_seconds  \\\n",
       "0  CPU_Simulator   24.335752    5.223718            29.55947   \n",
       "1   QPU_Hardware   24.335752    5.223718            29.55947   \n",
       "\n",
       "   total_time_minutes  \n",
       "0            0.492658  \n",
       "1            0.492658  "
      ]
     },
     "execution_count": 9,
     "metadata": {},
     "output_type": "execute_result"
    }
   ],
   "source": [
    "# 1st Metric\n",
    "print(\"=========== 1. Total Time Taken ===========\")\n",
    "print()\n",
    "\n",
    "# create summary data\n",
    "df_comparison['step3_time'] = df_all['step3_time']\n",
    "df_comparison['step4_time'] = df_all['step4_time']\n",
    "\n",
    "# add the metric to comparison DataFrame\n",
    "df_comparison['total_time_seconds'] = df_comparison['step3_time'] + df_comparison['step4_time']\n",
    "df_comparison['total_time_minutes'] = df_comparison['total_time_seconds'] / 60\n",
    "\n",
    "# summary table\n",
    "df_comparison[[col for col in ['experiment_id', 'step3_time', 'step4_time', 'total_time_seconds', 'total_time_minutes'] if col in df_comparison.columns]]"
   ]
  },
  {
   "cell_type": "markdown",
   "metadata": {},
   "source": [
    "### Metric 2: Total function evaluations"
   ]
  },
  {
   "cell_type": "code",
   "execution_count": 10,
   "metadata": {},
   "outputs": [
    {
     "name": "stdout",
     "output_type": "stream",
     "text": [
      "=========== 2. Total F(x) Evaluations ===========\n",
      "\n"
     ]
    },
    {
     "data": {
      "text/html": [
       "<div>\n",
       "<style scoped>\n",
       "    .dataframe tbody tr th:only-of-type {\n",
       "        vertical-align: middle;\n",
       "    }\n",
       "\n",
       "    .dataframe tbody tr th {\n",
       "        vertical-align: top;\n",
       "    }\n",
       "\n",
       "    .dataframe thead th {\n",
       "        text-align: right;\n",
       "    }\n",
       "</style>\n",
       "<table border=\"1\" class=\"dataframe\">\n",
       "  <thead>\n",
       "    <tr style=\"text-align: right;\">\n",
       "      <th></th>\n",
       "      <th>experiment_id</th>\n",
       "      <th>step3_fx_evals</th>\n",
       "      <th>step4_fx_evals</th>\n",
       "      <th>total_fx_evals</th>\n",
       "    </tr>\n",
       "  </thead>\n",
       "  <tbody>\n",
       "    <tr>\n",
       "      <th>0</th>\n",
       "      <td>CPU_Simulator</td>\n",
       "      <td>181</td>\n",
       "      <td>61</td>\n",
       "      <td>242</td>\n",
       "    </tr>\n",
       "    <tr>\n",
       "      <th>1</th>\n",
       "      <td>QPU_Hardware</td>\n",
       "      <td>181</td>\n",
       "      <td>61</td>\n",
       "      <td>242</td>\n",
       "    </tr>\n",
       "  </tbody>\n",
       "</table>\n",
       "</div>"
      ],
      "text/plain": [
       "   experiment_id  step3_fx_evals  step4_fx_evals  total_fx_evals\n",
       "0  CPU_Simulator             181              61             242\n",
       "1   QPU_Hardware             181              61             242"
      ]
     },
     "execution_count": 10,
     "metadata": {},
     "output_type": "execute_result"
    }
   ],
   "source": [
    "# 2nd Metric\n",
    "print(\"=========== 2. Total F(x) Evaluations ===========\")\n",
    "print()\n",
    "\n",
    "# create summary data\n",
    "df_comparison['step3_fx_evals'] = df_all['step3_fx_evals']\n",
    "df_comparison['step4_fx_evals'] = df_all['step4_fx_evals']\n",
    "\n",
    "# add the metric to comparison DataFrame\n",
    "df_comparison['total_fx_evals'] = df_comparison['step3_fx_evals'] + df_comparison['step4_fx_evals']\n",
    "\n",
    "# summary table\n",
    "df_comparison[[col for col in ['experiment_id', 'step3_fx_evals', 'step4_fx_evals', 'total_fx_evals'] if col in df_comparison.columns]]"
   ]
  },
  {
   "cell_type": "markdown",
   "metadata": {},
   "source": [
    "### Metric 3: Evaluation throughput"
   ]
  },
  {
   "cell_type": "code",
   "execution_count": 11,
   "metadata": {},
   "outputs": [
    {
     "name": "stdout",
     "output_type": "stream",
     "text": [
      "=========== 3. Total F(x) Evaluations ===========\n",
      "\n"
     ]
    },
    {
     "data": {
      "text/html": [
       "<div>\n",
       "<style scoped>\n",
       "    .dataframe tbody tr th:only-of-type {\n",
       "        vertical-align: middle;\n",
       "    }\n",
       "\n",
       "    .dataframe tbody tr th {\n",
       "        vertical-align: top;\n",
       "    }\n",
       "\n",
       "    .dataframe thead th {\n",
       "        text-align: right;\n",
       "    }\n",
       "</style>\n",
       "<table border=\"1\" class=\"dataframe\">\n",
       "  <thead>\n",
       "    <tr style=\"text-align: right;\">\n",
       "      <th></th>\n",
       "      <th>experiment_id</th>\n",
       "      <th>total_fx_evals</th>\n",
       "      <th>total_time_seconds</th>\n",
       "      <th>eval_throughput</th>\n",
       "    </tr>\n",
       "  </thead>\n",
       "  <tbody>\n",
       "    <tr>\n",
       "      <th>0</th>\n",
       "      <td>CPU_Simulator</td>\n",
       "      <td>242</td>\n",
       "      <td>29.55947</td>\n",
       "      <td>8.186886</td>\n",
       "    </tr>\n",
       "    <tr>\n",
       "      <th>1</th>\n",
       "      <td>QPU_Hardware</td>\n",
       "      <td>242</td>\n",
       "      <td>29.55947</td>\n",
       "      <td>8.186886</td>\n",
       "    </tr>\n",
       "  </tbody>\n",
       "</table>\n",
       "</div>"
      ],
      "text/plain": [
       "   experiment_id  total_fx_evals  total_time_seconds  eval_throughput\n",
       "0  CPU_Simulator             242            29.55947         8.186886\n",
       "1   QPU_Hardware             242            29.55947         8.186886"
      ]
     },
     "execution_count": 11,
     "metadata": {},
     "output_type": "execute_result"
    }
   ],
   "source": [
    "# 3rd Metric\n",
    "print(\"=========== 3. Total F(x) Evaluations ===========\")\n",
    "print()\n",
    "\n",
    "# add the metric to comparison DataFrame\n",
    "df_comparison['eval_throughput'] = df_comparison['total_fx_evals'] / df_comparison['total_time_seconds']\n",
    "df_comparison.loc[df_comparison['total_time_seconds'] == 0, 'eval_throughput'] = 0  # handle division-by-zero\n",
    "\n",
    "# summary table\n",
    "df_comparison[[col for col in ['experiment_id', 'total_fx_evals', 'total_time_seconds', 'eval_throughput'] if col in df_comparison.columns]]"
   ]
  },
  {
   "cell_type": "markdown",
   "metadata": {},
   "source": [
    "### Metric 4: Hamming distance between two solutions"
   ]
  },
  {
   "cell_type": "code",
   "execution_count": 12,
   "metadata": {},
   "outputs": [
    {
     "name": "stdout",
     "output_type": "stream",
     "text": [
      "=========== 4. Solution Vector Comparison ===========\n",
      "\n",
      "CPU_Simulator:\n",
      "  Step 3: [1. 1. 1. 1. 1. 1. 1. 1. 1. 1.]\n",
      "  Step 4: [1. 1. 1. 1. 1. 1. 1. 1. 1. 1.]\n",
      "\n",
      "QPU_Hardware:\n",
      "  Step 3: [1. 1. 1. 1. 1. 1. 1. 1. 1. 1.]\n",
      "  Step 4: [1. 1. 1. 1. 1. 1. 1. 1. 1. 1.]\n",
      "\n",
      "hamming distance (CPU vs QPU): 0.0\n",
      "\n"
     ]
    },
    {
     "data": {
      "text/html": [
       "<div>\n",
       "<style scoped>\n",
       "    .dataframe tbody tr th:only-of-type {\n",
       "        vertical-align: middle;\n",
       "    }\n",
       "\n",
       "    .dataframe tbody tr th {\n",
       "        vertical-align: top;\n",
       "    }\n",
       "\n",
       "    .dataframe thead th {\n",
       "        text-align: right;\n",
       "    }\n",
       "</style>\n",
       "<table border=\"1\" class=\"dataframe\">\n",
       "  <thead>\n",
       "    <tr style=\"text-align: right;\">\n",
       "      <th></th>\n",
       "      <th>experiment_id</th>\n",
       "      <th>hamming_distance_cpu_vs_qpu</th>\n",
       "    </tr>\n",
       "  </thead>\n",
       "  <tbody>\n",
       "    <tr>\n",
       "      <th>0</th>\n",
       "      <td>CPU_Simulator</td>\n",
       "      <td>0.0</td>\n",
       "    </tr>\n",
       "    <tr>\n",
       "      <th>1</th>\n",
       "      <td>QPU_Hardware</td>\n",
       "      <td>0.0</td>\n",
       "    </tr>\n",
       "  </tbody>\n",
       "</table>\n",
       "</div>"
      ],
      "text/plain": [
       "   experiment_id  hamming_distance_cpu_vs_qpu\n",
       "0  CPU_Simulator                          0.0\n",
       "1   QPU_Hardware                          0.0"
      ]
     },
     "execution_count": 12,
     "metadata": {},
     "output_type": "execute_result"
    }
   ],
   "source": [
    "# 4th Metric\n",
    "print(\"=========== 4. Solution Vector Comparison ===========\")\n",
    "print()\n",
    "\n",
    "# create summary data\n",
    "step4_result_best_x_list = []\n",
    "\n",
    "for idx, row in df_all.iterrows():\n",
    "    print(f\"{row['experiment_id']}:\")\n",
    "    print(f\"  Step 3: {row['step3_result_best_x']}\")\n",
    "    step4_result_best_x_list.append(row['step4_result_best_x'])\n",
    "    print(f\"  Step 4: {row['step4_result_best_x']}\")\n",
    "    print()\n",
    "\n",
    "# calculate hamming distance\n",
    "cpu_found_x = step4_result_best_x_list[0]\n",
    "qpu_found_x = step4_result_best_x_list[1]\n",
    "hamming_distance = sum(abs(cpu_found_x - qpu_found_x))\n",
    "print(f\"hamming distance (CPU vs QPU): {hamming_distance}\")\n",
    "print()\n",
    "\n",
    "# add the metric to comparison DataFrame\n",
    "df_comparison['hamming_distance_cpu_vs_qpu'] = hamming_distance\n",
    "\n",
    "# summary table\n",
    "df_comparison[[col for col in ['experiment_id', 'hamming_distance_cpu_vs_qpu'] if col in df_comparison.columns]]"
   ]
  },
  {
   "cell_type": "markdown",
   "metadata": {},
   "source": [
    "### Metric 5: Max-normalized relative difference of two objective function evaluations"
   ]
  },
  {
   "cell_type": "code",
   "execution_count": 13,
   "metadata": {},
   "outputs": [
    {
     "name": "stdout",
     "output_type": "stream",
     "text": [
      "=========== 5. Objective Function Value Comparison ===========\n",
      "\n",
      "CPU_Simulator:\n",
      "  Step 3 Objective: -1444.0188979272036\n",
      "  Step 4 Objective: -1444.0188979272036\n",
      "\n",
      "QPU_Hardware:\n",
      "  Step 3 Objective: -1444.0188979272036\n",
      "  Step 4 Objective: -1444.0188979272036\n",
      "\n",
      "max-normalized relative difference: 0.000000\n",
      "\n"
     ]
    },
    {
     "data": {
      "text/html": [
       "<div>\n",
       "<style scoped>\n",
       "    .dataframe tbody tr th:only-of-type {\n",
       "        vertical-align: middle;\n",
       "    }\n",
       "\n",
       "    .dataframe tbody tr th {\n",
       "        vertical-align: top;\n",
       "    }\n",
       "\n",
       "    .dataframe thead th {\n",
       "        text-align: right;\n",
       "    }\n",
       "</style>\n",
       "<table border=\"1\" class=\"dataframe\">\n",
       "  <thead>\n",
       "    <tr style=\"text-align: right;\">\n",
       "      <th></th>\n",
       "      <th>experiment_id</th>\n",
       "      <th>rel_difference_cpu_vs_qpu</th>\n",
       "    </tr>\n",
       "  </thead>\n",
       "  <tbody>\n",
       "    <tr>\n",
       "      <th>0</th>\n",
       "      <td>CPU_Simulator</td>\n",
       "      <td>0.0</td>\n",
       "    </tr>\n",
       "    <tr>\n",
       "      <th>1</th>\n",
       "      <td>QPU_Hardware</td>\n",
       "      <td>0.0</td>\n",
       "    </tr>\n",
       "  </tbody>\n",
       "</table>\n",
       "</div>"
      ],
      "text/plain": [
       "   experiment_id  rel_difference_cpu_vs_qpu\n",
       "0  CPU_Simulator                        0.0\n",
       "1   QPU_Hardware                        0.0"
      ]
     },
     "execution_count": 13,
     "metadata": {},
     "output_type": "execute_result"
    }
   ],
   "source": [
    "# 5th Metric\n",
    "print(\"=========== 5. Objective Function Value Comparison ===========\")\n",
    "print()\n",
    "\n",
    "# create summary data\n",
    "cpu_best_fx = None\n",
    "qpu_best_fx = None\n",
    "\n",
    "for idx, row in df_all.iterrows():\n",
    "    print(f\"{row['experiment_id']}:\")\n",
    "    print(f\"  Step 3 Objective: {row['step3_result_best_fx']}\")\n",
    "    print(f\"  Step 4 Objective: {row['step4_result_best_fx']}\")\n",
    "    if 'cpu' in row['experiment_id'].lower():\n",
    "        cpu_best_fx = row['step4_result_best_fx']  # objective function value at step 4\n",
    "    elif 'qpu' in row['experiment_id'].lower():\n",
    "        qpu_best_fx = row['step4_result_best_fx']  # objective function value at step 4\n",
    "    print()\n",
    "\n",
    "# calculate relative difference\n",
    "denom = max(abs(cpu_best_fx), abs(qpu_best_fx))\n",
    "if denom == 0:\n",
    "    rel_difference = 0\n",
    "else:\n",
    "    rel_difference = abs(cpu_best_fx - qpu_best_fx) / denom    \n",
    "print(f\"max-normalized relative difference: {rel_difference:.6f}\")\n",
    "print()\n",
    "\n",
    "# add the metric to comparison DataFrame\n",
    "df_comparison['rel_difference_cpu_vs_qpu'] = rel_difference\n",
    "\n",
    "# summary table\n",
    "df_comparison[[col for col in ['experiment_id', 'rel_difference_cpu_vs_qpu'] if col in df_comparison.columns]]"
   ]
  },
  {
   "cell_type": "markdown",
   "metadata": {},
   "source": [
    "### Metric 6: Score"
   ]
  },
  {
   "cell_type": "code",
   "execution_count": 14,
   "metadata": {},
   "outputs": [
    {
     "name": "stdout",
     "output_type": "stream",
     "text": [
      "=========== 6. Score ===========\n",
      "\n"
     ]
    },
    {
     "data": {
      "text/html": [
       "<div>\n",
       "<style scoped>\n",
       "    .dataframe tbody tr th:only-of-type {\n",
       "        vertical-align: middle;\n",
       "    }\n",
       "\n",
       "    .dataframe tbody tr th {\n",
       "        vertical-align: top;\n",
       "    }\n",
       "\n",
       "    .dataframe thead th {\n",
       "        text-align: right;\n",
       "    }\n",
       "</style>\n",
       "<table border=\"1\" class=\"dataframe\">\n",
       "  <thead>\n",
       "    <tr style=\"text-align: right;\">\n",
       "      <th></th>\n",
       "      <th>experiment_id</th>\n",
       "      <th>step4_result_best_fx</th>\n",
       "      <th>total_time_seconds</th>\n",
       "      <th>score</th>\n",
       "    </tr>\n",
       "  </thead>\n",
       "  <tbody>\n",
       "    <tr>\n",
       "      <th>0</th>\n",
       "      <td>CPU_Simulator</td>\n",
       "      <td>-1444.018898</td>\n",
       "      <td>29.55947</td>\n",
       "      <td>0.000023</td>\n",
       "    </tr>\n",
       "    <tr>\n",
       "      <th>1</th>\n",
       "      <td>QPU_Hardware</td>\n",
       "      <td>-1444.018898</td>\n",
       "      <td>29.55947</td>\n",
       "      <td>0.000023</td>\n",
       "    </tr>\n",
       "  </tbody>\n",
       "</table>\n",
       "</div>"
      ],
      "text/plain": [
       "   experiment_id  step4_result_best_fx  total_time_seconds     score\n",
       "0  CPU_Simulator          -1444.018898            29.55947  0.000023\n",
       "1   QPU_Hardware          -1444.018898            29.55947  0.000023"
      ]
     },
     "execution_count": 14,
     "metadata": {},
     "output_type": "execute_result"
    }
   ],
   "source": [
    "# 6th Metric\n",
    "print(\"=========== 6. Score ===========\")\n",
    "print()\n",
    "\n",
    "# add the metric to comparison DataFrame\n",
    "df_comparison['score'] = 1 / df_comparison['step4_result_best_fx'].abs() / df_comparison['total_time_seconds']\n",
    "df_comparison.loc[df_comparison['total_time_seconds'] == 0, 'score'] = 0  # handle division-by-zero\n",
    "\n",
    "# summary table\n",
    "df_comparison[[col for col in ['experiment_id', 'step4_result_best_fx', 'total_time_seconds',  'score'] if col in df_comparison.columns]]"
   ]
  },
  {
   "cell_type": "markdown",
   "metadata": {},
   "source": [
    "### Metric 7: Relative efficiency ratio"
   ]
  },
  {
   "cell_type": "code",
   "execution_count": 15,
   "metadata": {},
   "outputs": [
    {
     "name": "stdout",
     "output_type": "stream",
     "text": [
      "=========== 7. Relative Efficiency Ratio ===========\n",
      "\n",
      "CPU_Simulator:\n",
      "  score: 2.342774461196351e-05\n",
      "\n",
      "QPU_Hardware:\n",
      "  score: 2.342774461196351e-05\n",
      "\n",
      "relative efficiency ratio: 1.000000\n",
      "\n"
     ]
    },
    {
     "data": {
      "text/html": [
       "<div>\n",
       "<style scoped>\n",
       "    .dataframe tbody tr th:only-of-type {\n",
       "        vertical-align: middle;\n",
       "    }\n",
       "\n",
       "    .dataframe tbody tr th {\n",
       "        vertical-align: top;\n",
       "    }\n",
       "\n",
       "    .dataframe thead th {\n",
       "        text-align: right;\n",
       "    }\n",
       "</style>\n",
       "<table border=\"1\" class=\"dataframe\">\n",
       "  <thead>\n",
       "    <tr style=\"text-align: right;\">\n",
       "      <th></th>\n",
       "      <th>experiment_id</th>\n",
       "      <th>score</th>\n",
       "      <th>rel_eff_ratio_cpu_vs_qpu</th>\n",
       "    </tr>\n",
       "  </thead>\n",
       "  <tbody>\n",
       "    <tr>\n",
       "      <th>0</th>\n",
       "      <td>CPU_Simulator</td>\n",
       "      <td>0.000023</td>\n",
       "      <td>1.0</td>\n",
       "    </tr>\n",
       "    <tr>\n",
       "      <th>1</th>\n",
       "      <td>QPU_Hardware</td>\n",
       "      <td>0.000023</td>\n",
       "      <td>1.0</td>\n",
       "    </tr>\n",
       "  </tbody>\n",
       "</table>\n",
       "</div>"
      ],
      "text/plain": [
       "   experiment_id     score  rel_eff_ratio_cpu_vs_qpu\n",
       "0  CPU_Simulator  0.000023                       1.0\n",
       "1   QPU_Hardware  0.000023                       1.0"
      ]
     },
     "execution_count": 15,
     "metadata": {},
     "output_type": "execute_result"
    }
   ],
   "source": [
    "# 7th Metric\n",
    "print(\"=========== 7. Relative Efficiency Ratio ===========\")\n",
    "print()\n",
    "\n",
    "# create summary data\n",
    "cpu_score = None\n",
    "qpu_score = None\n",
    "\n",
    "for idx, row in df_comparison.iterrows():\n",
    "    print(f\"{row['experiment_id']}:\")\n",
    "    if 'cpu' in row['experiment_id'].lower():\n",
    "        print(f\"  score: {row['score']}\")\n",
    "        cpu_score = row['step4_result_best_fx']\n",
    "    elif 'qpu' in row['experiment_id'].lower():\n",
    "        print(f\"  score: {row['score']}\")\n",
    "        qpu_score = row['step4_result_best_fx']\n",
    "    print()\n",
    "\n",
    "# calculate relative efficiency ratio\n",
    "if qpu_score == 0:\n",
    "    rel_eff_ratio = 0\n",
    "else:\n",
    "    rel_eff_ratio = cpu_score / qpu_score\n",
    "print(f\"relative efficiency ratio: {rel_eff_ratio:.6f}\")\n",
    "print()\n",
    "\n",
    "# add the metric to comparison DataFrame\n",
    "df_comparison['rel_eff_ratio_cpu_vs_qpu'] = rel_eff_ratio\n",
    "\n",
    "# summary table\n",
    "df_comparison[[col for col in ['experiment_id', 'score', 'rel_eff_ratio_cpu_vs_qpu'] if col in df_comparison.columns]]"
   ]
  },
  {
   "cell_type": "code",
   "execution_count": 16,
   "metadata": {},
   "outputs": [
    {
     "data": {
      "text/html": [
       "<div>\n",
       "<style scoped>\n",
       "    .dataframe tbody tr th:only-of-type {\n",
       "        vertical-align: middle;\n",
       "    }\n",
       "\n",
       "    .dataframe tbody tr th {\n",
       "        vertical-align: top;\n",
       "    }\n",
       "\n",
       "    .dataframe thead th {\n",
       "        text-align: right;\n",
       "    }\n",
       "</style>\n",
       "<table border=\"1\" class=\"dataframe\">\n",
       "  <thead>\n",
       "    <tr style=\"text-align: right;\">\n",
       "      <th></th>\n",
       "      <th>experiment_id</th>\n",
       "      <th>ansatz</th>\n",
       "      <th>ansatz_params</th>\n",
       "      <th>has_step4</th>\n",
       "      <th>step3_result_best_fx</th>\n",
       "      <th>step4_result_best_fx</th>\n",
       "      <th>step3_time</th>\n",
       "      <th>step4_time</th>\n",
       "      <th>total_time_seconds</th>\n",
       "      <th>total_time_minutes</th>\n",
       "      <th>step3_fx_evals</th>\n",
       "      <th>step4_fx_evals</th>\n",
       "      <th>total_fx_evals</th>\n",
       "      <th>eval_throughput</th>\n",
       "      <th>hamming_distance_cpu_vs_qpu</th>\n",
       "      <th>rel_difference_cpu_vs_qpu</th>\n",
       "      <th>score</th>\n",
       "      <th>rel_eff_ratio_cpu_vs_qpu</th>\n",
       "    </tr>\n",
       "  </thead>\n",
       "  <tbody>\n",
       "    <tr>\n",
       "      <th>0</th>\n",
       "      <td>CPU_Simulator</td>\n",
       "      <td>TwoLocal</td>\n",
       "      <td>{'reps': 2, 'entanglement': 'full'}</td>\n",
       "      <td>True</td>\n",
       "      <td>-1444.018898</td>\n",
       "      <td>-1444.018898</td>\n",
       "      <td>24.335752</td>\n",
       "      <td>5.223718</td>\n",
       "      <td>29.55947</td>\n",
       "      <td>0.492658</td>\n",
       "      <td>181</td>\n",
       "      <td>61</td>\n",
       "      <td>242</td>\n",
       "      <td>8.186886</td>\n",
       "      <td>0.0</td>\n",
       "      <td>0.0</td>\n",
       "      <td>0.000023</td>\n",
       "      <td>1.0</td>\n",
       "    </tr>\n",
       "    <tr>\n",
       "      <th>1</th>\n",
       "      <td>QPU_Hardware</td>\n",
       "      <td>TwoLocal</td>\n",
       "      <td>{'reps': 2, 'entanglement': 'full'}</td>\n",
       "      <td>True</td>\n",
       "      <td>-1444.018898</td>\n",
       "      <td>-1444.018898</td>\n",
       "      <td>24.335752</td>\n",
       "      <td>5.223718</td>\n",
       "      <td>29.55947</td>\n",
       "      <td>0.492658</td>\n",
       "      <td>181</td>\n",
       "      <td>61</td>\n",
       "      <td>242</td>\n",
       "      <td>8.186886</td>\n",
       "      <td>0.0</td>\n",
       "      <td>0.0</td>\n",
       "      <td>0.000023</td>\n",
       "      <td>1.0</td>\n",
       "    </tr>\n",
       "  </tbody>\n",
       "</table>\n",
       "</div>"
      ],
      "text/plain": [
       "   experiment_id    ansatz                        ansatz_params  has_step4  \\\n",
       "0  CPU_Simulator  TwoLocal  {'reps': 2, 'entanglement': 'full'}       True   \n",
       "1   QPU_Hardware  TwoLocal  {'reps': 2, 'entanglement': 'full'}       True   \n",
       "\n",
       "   step3_result_best_fx  step4_result_best_fx  step3_time  step4_time  \\\n",
       "0          -1444.018898          -1444.018898   24.335752    5.223718   \n",
       "1          -1444.018898          -1444.018898   24.335752    5.223718   \n",
       "\n",
       "   total_time_seconds  total_time_minutes  step3_fx_evals  step4_fx_evals  \\\n",
       "0            29.55947            0.492658             181              61   \n",
       "1            29.55947            0.492658             181              61   \n",
       "\n",
       "   total_fx_evals  eval_throughput  hamming_distance_cpu_vs_qpu  \\\n",
       "0             242         8.186886                          0.0   \n",
       "1             242         8.186886                          0.0   \n",
       "\n",
       "   rel_difference_cpu_vs_qpu     score  rel_eff_ratio_cpu_vs_qpu  \n",
       "0                        0.0  0.000023                       1.0  \n",
       "1                        0.0  0.000023                       1.0  "
      ]
     },
     "execution_count": 16,
     "metadata": {},
     "output_type": "execute_result"
    }
   ],
   "source": [
    "# display comparison DataFrame\n",
    "df_comparison"
   ]
  },
  {
   "cell_type": "markdown",
   "metadata": {},
   "source": [
    "## I. \"Time Effiency\"\n",
    "\n",
    "### I(a). Analysis\n",
    "\n",
    "**Scenario 1**: Fixed Time Budget\n",
    "\n",
    "- In situations where the time on quantum hardware is strictly limited, maximizing throughput becomes essential. Performing as many evaluations as possible within the fixed time allows for greater exploration of potential solutions. Increasing the number of evaluations enhances the likelihood of finding better results within the constrained timeframe.\n",
    "\n",
    "**Scenario 2**: Fixed Solution Quality\n",
    "\n",
    "- When achieving a predetermined solution quality is the priority, minimizing the total number of quantum circuit executions is critical. Reaching the target solution with fewer evaluations reduces computational cost. Higher throughput contributes by accelerating progress toward the solution, enabling faster attainment of the desired quality."
   ]
  },
  {
   "cell_type": "code",
   "execution_count": 17,
   "metadata": {},
   "outputs": [
    {
     "name": "stdout",
     "output_type": "stream",
     "text": [
      "\n",
      "CPU_Simulator:\n",
      "  Step3 Execution Time: 24.34s\n",
      "  Step4 Execution Time: 5.22s\n",
      "  Total Execution Time: 29.56s\n",
      "  Evaluation Throughput: 8.186886\n",
      "\n",
      "QPU_Hardware:\n",
      "  Step3 Execution Time: 24.34s\n",
      "  Step4 Execution Time: 5.22s\n",
      "  Total Execution Time: 29.56s\n",
      "  Evaluation Throughput: 8.186886\n"
     ]
    }
   ],
   "source": [
    "# extract data from comparison DataFrame\n",
    "for _, row in df_comparison.iterrows():\n",
    "    print(f\"\\n{row['experiment_id']}:\")\n",
    "    print(f\"  Step3 Execution Time: {row['step3_time']:.2f}s\")\n",
    "    print(f\"  Step4 Execution Time: {row['step4_time']:.2f}s\")\n",
    "    print(f\"  Total Execution Time: {row['total_time_seconds']:.2f}s\")\n",
    "    print(f\"  Evaluation Throughput: {row['eval_throughput']:.6f}\")"
   ]
  },
  {
   "cell_type": "markdown",
   "metadata": {},
   "source": [
    "### I(b). Visualization"
   ]
  },
  {
   "cell_type": "code",
   "execution_count": 18,
   "metadata": {},
   "outputs": [
    {
     "data": {
      "image/png": "[encoded data removed]",
      "text/plain": [
       "<Figure size 1200x600 with 2 Axes>"
      ]
     },
     "metadata": {},
     "output_type": "display_data"
    }
   ],
   "source": [
    "# create visualization\n",
    "fig, axes = plt.subplots(1, 2, figsize=(12, 6))\n",
    "fig.suptitle('I. TIME EFFICIENCY COMPARISON', fontsize=16, fontweight='bold')\n",
    "\n",
    "# extract data from comparison DataFrame\n",
    "cpu_time = [df_comparison.iloc[0]['step3_time'],\n",
    "            df_comparison.iloc[0]['step4_time'],\n",
    "            df_comparison.iloc[0]['total_time_seconds']]\n",
    "\n",
    "qpu_time = [df_comparison.iloc[1]['step3_time'],\n",
    "            df_comparison.iloc[1]['step4_time'],\n",
    "            df_comparison.iloc[1]['total_time_seconds']]\n",
    "\n",
    "eval_throughputs = [df_comparison.iloc[0]['eval_throughput'],\n",
    "                    df_comparison.iloc[1]['eval_throughput']]\n",
    "\n",
    "cpu_label = df_comparison.iloc[0]['experiment_id']\n",
    "qpu_label = df_comparison.iloc[1]['experiment_id']\n",
    "\n",
    "######################################################################################\n",
    "# plot 1: time comparison (3 groups of 2 bars)\n",
    "\n",
    "x_ticklabels_time = ['step3_time', 'step4_time', 'total_time']\n",
    "x = np.arange(len(x_ticklabels_time))\n",
    "width = 0.25\n",
    "\n",
    "# create bars\n",
    "bars1 = axes[0].bar(x - width/2, cpu_time, width, label=cpu_label, \n",
    "                    color=['lightblue', 'lightblue'], alpha=0.8)\n",
    "bars2 = axes[0].bar(x + width/2, qpu_time, width, label=qpu_label, \n",
    "                    color=['darkblue', 'darkblue'], alpha=0.8)\n",
    "\n",
    "axes[0].set_xlabel('Time Type', fontsize=11)\n",
    "axes[0].set_ylabel('Time (seconds)', fontsize=11)\n",
    "axes[0].set_title('1. Time Comparison\\n(Shorter bar = faster execution  = better)', fontsize=12, fontweight='bold')\n",
    "axes[0].set_xticks(x)\n",
    "axes[0].set_xticklabels(x_ticklabels_time, rotation=0, ha='center', fontsize=10)\n",
    "axes[0].legend()\n",
    "axes[0].grid(True, alpha=0.3)\n",
    "\n",
    "# add value labels on bars (show all time values)\n",
    "for bars in [bars1, bars2]:\n",
    "    for bar in bars:\n",
    "        height = bar.get_height()\n",
    "        axes[0].text(bar.get_x() + bar.get_width()/2., height,\n",
    "                    f'{height:.2f}', ha='center', va='bottom', fontsize=9)\n",
    "\n",
    "######################################################################################\n",
    "# plot 2: evaluation throughput comparison\n",
    "\n",
    "backends = [cpu_label, qpu_label]\n",
    "x = np.arange(len(backends))\n",
    "\n",
    "# create bars\n",
    "bars = axes[1].bar(x, eval_throughputs, width=0.5, align='center', \n",
    "                  color=['lightblue', 'darkblue'], alpha=0.8)\n",
    "\n",
    "axes[1].set_xlabel('Backend Type', fontsize=11)\n",
    "axes[1].set_ylabel('Evaluations per Second', fontsize=11)\n",
    "axes[1].set_title('2. Evaluation Throughput\\n(Longer bar = higher time efficiency = better)', fontsize=12, fontweight='bold')\n",
    "axes[1].set_xticks(x)\n",
    "axes[1].set_xticklabels(backends, rotation=0, ha='center', fontsize=10)\n",
    "axes[1].grid(True, alpha=0.3)\n",
    "\n",
    "# add value labels on bars (show evaluation throughput)\n",
    "for bar, val in zip(bars, eval_throughputs):\n",
    "    height = bar.get_height()\n",
    "    axes[1].text(bar.get_x() + bar.get_width()/2., height,\n",
    "                f'{val:.2f}', ha='center', va='bottom', fontsize=9)\n",
    "\n",
    "######################################################################################\n",
    "\n",
    "plt.tight_layout()\n",
    "plt.show()"
   ]
  },
  {
   "cell_type": "markdown",
   "metadata": {},
   "source": [
    "### I(c). Conclusion\n",
    "\n",
    "**Question**: How does the time efficiency of variational quantum algorithms differ between simulated and real quantum environments?\n",
    "\n",
    "**Answer**: Based on the data, \n",
    "\n",
    "## II. \"Computational Resource\"\n",
    "\n",
    "### II(a). Analysis\n",
    "\n",
    "**Scenario**: Resource-Constrained Environment\n",
    "\n",
    "- In environments where quantum hardware access is expensive or scarce, reducing the total number of evaluations takes precedence. Minimizing quantum resource consumption lowers overall costs. In this context, throughput is less important than conserving computational resources by limiting quantum circuit executions."
   ]
  },
  {
   "cell_type": "code",
   "execution_count": 19,
   "metadata": {},
   "outputs": [
    {
     "name": "stdout",
     "output_type": "stream",
     "text": [
      "\n",
      "CPU_Simulator:\n",
      "  Total Function Evaluations: 242\n",
      "\n",
      "QPU_Hardware:\n",
      "  Total Function Evaluations: 242\n"
     ]
    }
   ],
   "source": [
    "# extract data from comparison DataFrame\n",
    "for _, row in df_comparison.iterrows():\n",
    "    print(f\"\\n{row['experiment_id']}:\")\n",
    "    print(f\"  Total Function Evaluations: {row['total_fx_evals']}\")"
   ]
  },
  {
   "cell_type": "markdown",
   "metadata": {},
   "source": [
    "### II(b). Visualization"
   ]
  },
  {
   "cell_type": "code",
   "execution_count": 20,
   "metadata": {},
   "outputs": [
    {
     "data": {
      "image/png": "[encoded data removed]",
      "text/plain": [
       "<Figure size 600x600 with 1 Axes>"
      ]
     },
     "metadata": {},
     "output_type": "display_data"
    }
   ],
   "source": [
    "# create visualization\n",
    "fig, axes = plt.subplots(1, 1, figsize=(6, 6))\n",
    "fig.suptitle('II. COMPUTATIONAL RESOURCE COMPARISON', fontsize=16, fontweight='bold')\n",
    "\n",
    "# extract data from comparison DataFrame\n",
    "total_fx_evals = [df_comparison.iloc[0]['total_fx_evals'],\n",
    "                  df_comparison.iloc[1]['total_fx_evals']]\n",
    "\n",
    "######################################################################################\n",
    "# plot: total function evaluations comparison\n",
    "\n",
    "x = np.arange(len(backends))\n",
    "\n",
    "# create bars\n",
    "bars = axes.bar(x, total_fx_evals, width=0.5,\n",
    "               color=['lightblue', 'darkblue'], alpha=0.8)\n",
    "\n",
    "axes.set_xlabel('Backend Type', fontsize=11)\n",
    "axes.set_ylabel('Total Function Evaluations', fontsize=11)\n",
    "axes.set_title('Total Function Evaluations\\n(Shorter bar = less computational cost = better)', fontsize=12, fontweight='bold')\n",
    "axes.set_xticks(x)\n",
    "axes.set_xticklabels(backends, rotation=0, ha='center', fontsize=10)\n",
    "axes.grid(True, alpha=0.3)\n",
    "\n",
    "# add value labels on bars (show total function evaluations)\n",
    "for bar, val in zip(bars, total_fx_evals):\n",
    "    height = bar.get_height()\n",
    "    axes.text(bar.get_x() + bar.get_width()/2., height,\n",
    "              f'{int(val)}', ha='center', va='bottom', fontsize=9)\n",
    "\n",
    "######################################################################################\n",
    "\n",
    "plt.tight_layout()\n",
    "plt.show()"
   ]
  },
  {
   "cell_type": "markdown",
   "metadata": {},
   "source": [
    "### II(c). Conclusion\n",
    "\n",
    "**Question**: ?\n",
    "\n",
    "**Answer**: \n",
    "\n",
    "## III. \"Solution Quality\"\n",
    "\n",
    "### III(a). Analysis"
   ]
  },
  {
   "cell_type": "code",
   "execution_count": 21,
   "metadata": {},
   "outputs": [
    {
     "name": "stdout",
     "output_type": "stream",
     "text": [
      "\n",
      "CPU_Simulator:\n",
      "  Score: 2.342774461196351e-05\n",
      "\n",
      "QPU_Hardware:\n",
      "  Score: 2.342774461196351e-05\n",
      "\n",
      "Hamming distance: 0.0\n",
      "Relative difference: 0.0\n",
      "Relative efficiency ratio: 1.0\n"
     ]
    }
   ],
   "source": [
    "# extract data from comparison DataFrame\n",
    "for _, row in df_comparison.iterrows():\n",
    "    print(f\"\\n{row['experiment_id']}:\")\n",
    "    print(f\"  Score: {row['score']:}\")\n",
    "print()\n",
    "print(f\"Hamming distance: {df_comparison.iloc[0]['hamming_distance_cpu_vs_qpu']}\")\n",
    "print(f\"Relative difference: {df_comparison.iloc[0]['rel_difference_cpu_vs_qpu']}\")\n",
    "print(f\"Relative efficiency ratio: {df_comparison.iloc[0]['rel_eff_ratio_cpu_vs_qpu']}\")"
   ]
  },
  {
   "cell_type": "markdown",
   "metadata": {},
   "source": [
    "### III(b). Visualization"
   ]
  },
  {
   "cell_type": "code",
   "execution_count": 22,
   "metadata": {},
   "outputs": [
    {
     "data": {
      "image/png": "[encoded data removed]",
      "text/plain": [
       "<Figure size 600x600 with 1 Axes>"
      ]
     },
     "metadata": {},
     "output_type": "display_data"
    }
   ],
   "source": [
    "# create visualization\n",
    "fig, axes = plt.subplots(1, 1, figsize=(6, 6))\n",
    "fig.suptitle('III. SOLUTION QUALITY COMPARISON', fontsize=16, fontweight='bold')\n",
    "\n",
    "# extract data from comparison DataFrame\n",
    "scores = [df_comparison.iloc[0]['score'],\n",
    "          df_comparison.iloc[1]['score']]\n",
    "\n",
    "######################################################################################\n",
    "# plot: efficiency score comparison\n",
    "\n",
    "x = np.arange(len(backends))\n",
    "\n",
    "# create bars\n",
    "bars = axes.bar(x, scores, width=0.5,\n",
    "               color=['lightblue', 'darkblue'], alpha=0.8)\n",
    "\n",
    "axes.set_xlabel('Backend Type', fontsize=11)\n",
    "axes.set_ylabel('Efficiency Score', fontsize=11)\n",
    "axes.set_title('Score\\n(Longer bar = better solution-quality/time balance = better)', fontsize=12, fontweight='bold')\n",
    "axes.set_xticks(x)\n",
    "axes.set_xticklabels(backends, rotation=0, ha='center', fontsize=10)\n",
    "axes.grid(True, alpha=0.3)\n",
    "\n",
    "axes.ticklabel_format(style='scientific', axis='y', scilimits=(0,0), useMathText=True)  # force scientific notation on y-axis\n",
    "\n",
    "# add value labels on bars (show efficiency scores)\n",
    "for bar, val in zip(bars, scores):\n",
    "    height = bar.get_height()\n",
    "    axes.text(bar.get_x() + bar.get_width()/2., height,\n",
    "              f'{val:.2e}', ha='center', va='bottom', fontsize=9)\n",
    "\n",
    "######################################################################################\n",
    "\n",
    "plt.tight_layout()\n",
    "plt.show()"
   ]
  },
  {
   "cell_type": "markdown",
   "metadata": {},
   "source": [
    "### III(c). Conclusion\n",
    "\n",
    "**Question**: ?\n",
    "\n",
    "**Answer**: \n",
    "\n",
    "## Feasibility\n",
    "\n",
    "1. **Conclusion I**: ...\n",
    "2. **Conclusion II**: ...\n",
    "3. **Conclusion III**: ...\n",
    "\n",
    "... because:\n",
    "- ... (Conclusion I)\n",
    "- ... (Conclusion II)\n",
    "- ... (Conclusion III)\n",
    "- ..."
   ]
  },
  {
   "cell_type": "markdown",
   "metadata": {},
   "source": [
    "# Backend Analysis Conclusion\n",
    "\n",
    "..."
   ]
  }
 ],
 "metadata": {
  "kernelspec": {
   "display_name": "Python 3 (ipykernel)",
   "language": "python",
   "name": "python3"
  },
  "language_info": {
   "codemirror_mode": {
    "name": "ipython",
    "version": 3
   },
   "file_extension": ".py",
   "mimetype": "text/x-python",
   "name": "python",
   "nbconvert_exporter": "python",
   "pygments_lexer": "ipython3",
   "version": "3.10.18"
  }
 },
 "nbformat": 4,
 "nbformat_minor": 4
}
