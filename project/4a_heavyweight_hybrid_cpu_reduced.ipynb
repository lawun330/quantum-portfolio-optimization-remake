{
 "cells": [
  {
   "cell_type": "markdown",
   "metadata": {},
   "source": [
    "# Heavyweight Hybrid: AerSimulator Classical Hardware\n",
    "\n",
    "This notebook implements the **Heavyweight Hybrid** approach to reduced portfolio optimization using **AerSimulator classical hardware (CPU)**.\n",
    "\n",
    "- **Problem Size**: 10 bonds (reduced from 31)\n",
    "- **Ansatz**: TwoLocal with full entanglement + Local Search post-processing\n",
    "- **Parameters**: Low reps (1-2) + Local Search optimization\n",
    "- **Quantum Measurements**: 512 shots per epoch\n",
    "- **Quantum Epochs**: 2 epochs of CVaR-VQE\n",
    "- **Local Search Epochs**: 8 epochs of classical refinement\n",
    "- **CVaR Parameter**: α = 0.1 (focuses on worst 10% of measurements)\n",
    "- **Hardware**: AerSimulator classical device"
   ]
  },
  {
   "cell_type": "markdown",
   "metadata": {},
   "source": [
    "## Setup and Imports"
   ]
  },
  {
   "cell_type": "code",
   "execution_count": 1,
   "metadata": {},
   "outputs": [
    {
     "name": "stdout",
     "output_type": "stream",
     "text": [
      "Working directory: C:\\Users\\ASUS\\Downloads\\WISER_Optimization_VG-main\n",
      "Python path includes: C:\\Users\\ASUS\\Downloads\\WISER_Optimization_VG-main in sys.path\n"
     ]
    }
   ],
   "source": [
    "import os\n",
    "import sys\n",
    "import time\n",
    "import numpy as np\n",
    "import pickle\n",
    "from pathlib import Path\n",
    "from dataclasses import asdict\n",
    "import docplex.mp.model_reader\n",
    "\n",
    "# add root directory to path\n",
    "ROOT = Path(os.getcwd()).parent\n",
    "sys.path.append(str(ROOT))\n",
    "\n",
    "# quantum imports\n",
    "from qiskit_aer import AerSimulator\n",
    "from qiskit.transpiler.preset_passmanagers import generate_preset_pass_manager\n",
    "\n",
    "# project imports\n",
    "# 1. LP/QUBO processing\n",
    "from src.sbo.src.utils.lp_utils import load_quadratic_program\n",
    "from src.sbo.src._problems.substitute_variables import substitute_variables\n",
    "from src.sbo.src._converters.quadratic_program_to_qubo import QuadraticProgramToQubo\n",
    "# 2. ansatz building\n",
    "from src.step_1 import build_ansatz\n",
    "# 3. quantum optimization\n",
    "from src.sbo.src.patterns.building_blocks.step_3 import HardwareExecutor\n",
    "# 4. local search\n",
    "from src.step_1 import model_to_obj # same as importing model_to_obj_sparse_numba\n",
    "from src.sbo.src.optimizer.local_search import repeated_local_search_general\n",
    "# 5. experiment saving\n",
    "from src.experiment import Experiment\n",
    "\n",
    "print(f\"Working directory: {ROOT}\")\n",
    "print(f\"Python path includes: {str(ROOT)} in sys.path\")"
   ]
  },
  {
   "cell_type": "markdown",
   "metadata": {},
   "source": [
    "## Problem Setup: 31-Bond Portfolio Optimization\n",
    "\n",
    "The problem starts as an LP file, which is converted into a quadratic function and then transformed into a Quadratic Unconstrained Binary Optimization (QUBO) problem using predefined modules."
   ]
  },
  {
   "cell_type": "code",
   "execution_count": 2,
   "metadata": {},
   "outputs": [
    {
     "name": "stdout",
     "output_type": "stream",
     "text": [
      "31-bond problem: 31 binary variables\n",
      "QUBO variables: 31\n",
      "QUBO objective sense: ObjSense.MINIMIZE\n",
      "QUBO constant term: 0.0\n"
     ]
    }
   ],
   "source": [
    "# load the 31-bond problem\n",
    "lp_file_path = str(ROOT) + '/data/1/31bonds/docplex-bin-avgonly-nocplexvars.lp'\n",
    "\n",
    "# convert LP file into quadratic problem\n",
    "quadratic_problem = load_quadratic_program(lp_file_path)\n",
    "\n",
    "# convert quadratic program into QUBO\n",
    "converter = QuadraticProgramToQubo()\n",
    "qubo = converter.convert(quadratic_problem)\n",
    "\n",
    "print(f\"31-bond problem: {quadratic_problem.get_num_binary_vars()} binary variables\")\n",
    "print(f\"QUBO variables: {qubo.get_num_vars()}\")\n",
    "print(f\"QUBO objective sense: {qubo.objective.sense}\")\n",
    "print(f\"QUBO constant term: {qubo.objective.constant}\")"
   ]
  },
  {
   "cell_type": "markdown",
   "metadata": {},
   "source": [
    "## Problem Size Reduction\n",
    "\n",
    "Due to IBM Quantum's free tier limitations (10 minutes of QPU access per month as of 2025), the problem size is reduced to make it feasible for execution on real quantum hardware. The `substitute_variables()` function assigns a constant value of 0 to a range of variables out of 31 total variables. This effectively reduces the problem dimensionality while maintaining the optimization structure.\n",
    "\n",
    "In this implementation, 10 bonds are kept for demonstration purposes; however, this number is configurable via the `NUM_BONDS_TO_KEEP` parameter and can be adjusted based on available computational resources and desired problem complexity.\n",
    "\n",
    "- **Original Problem**: 31 bonds (31 qubits required)\n",
    "- **Reduced Problem**: 10 bonds (10 qubits required)"
   ]
  },
  {
   "cell_type": "code",
   "execution_count": 3,
   "metadata": {},
   "outputs": [
    {
     "name": "stdout",
     "output_type": "stream",
     "text": [
      "Total variables: 31\n",
      "\n",
      "Keeping first 10: ['iTrade_444859BY7', 'iTrade_45687VAB2', 'iTrade_15135BAW1', 'iTrade_081437AT2', 'iTrade_444859BR2', 'iTrade_443201AC2', 'iTrade_760759BA7', 'iTrade_026874DS3', 'iTrade_14448CBC7', 'iTrade_36166NAK9']\n",
      "\n",
      "Discarding remaining 21: ['iTrade_539830CD9', 'iTrade_760759BC3', 'iTrade_907818FX1', 'iTrade_24422EWZ8', 'iTrade_444859BV3', 'iTrade_13645RAD6', 'iTrade_24422EXP9', 'iTrade_91324PEJ7', 'iTrade_56501RAN6', 'iTrade_75513EAD3', 'iTrade_438516CM6', 'iTrade_314353AA1', 'iTrade_444859CA8', 'iTrade_020002BJ9', 'iTrade_759351AP4', 'iTrade_655844CT3', 'iTrade_540424AT5', 'iTrade_097023CJ2', 'iTrade_13645RBF0', 'iTrade_655844CR7', 'iTrade_21871XAS8']\n",
      "\n",
      "10-bond problem: 10 binary variables\n",
      "QUBO variables: 10\n",
      "QUBO objective sense: ObjSense.MINIMIZE\n",
      "QUBO constant term: 0.0\n"
     ]
    }
   ],
   "source": [
    "# set the number of bonds to keep\n",
    "NUM_BONDS_TO_KEEP = 10  # -- MODIFY HERE --\n",
    "\n",
    "# get all variable names\n",
    "var_names = [var.name for var in quadratic_problem.variables]\n",
    "total_vars = len(var_names)\n",
    "print(f\"Total variables: {total_vars}\")\n",
    "print()\n",
    "print(f\"Keeping first {NUM_BONDS_TO_KEEP}: {var_names[:NUM_BONDS_TO_KEEP]}\")\n",
    "print()\n",
    "print(f\"Discarding remaining {total_vars - NUM_BONDS_TO_KEEP}: {var_names[NUM_BONDS_TO_KEEP:]}\")\n",
    "print()\n",
    "\n",
    "# reduce problem size by fixing unused variables to 0\n",
    "constants = {var_names[i]: 0 for i in range(NUM_BONDS_TO_KEEP, total_vars)}\n",
    "smaller_quadratic_problem = substitute_variables(quadratic_problem, constants=constants)\n",
    "smaller_qubo = converter.convert(smaller_quadratic_problem)\n",
    "\n",
    "print(f\"{NUM_BONDS_TO_KEEP}-bond problem: {smaller_quadratic_problem.get_num_binary_vars()} binary variables\")\n",
    "print(f\"QUBO variables: {smaller_qubo.get_num_vars()}\")\n",
    "print(f\"QUBO objective sense: {smaller_qubo.objective.sense}\")\n",
    "print(f\"QUBO constant term: {smaller_qubo.objective.constant}\")"
   ]
  },
  {
   "cell_type": "markdown",
   "metadata": {},
   "source": [
    "## Objective Function\n",
    "\n",
    "The objective function is given by the formula:\n",
    "\n",
    "$$\n",
    "\\min \\sum_{\\ell \\in L} \\sum_{j \\in J} \\rho_j \\left( \\sum_{c \\in K_\\ell} \\beta_{c,j} \\, x_c - K_{\\ell,j}^{\\text{target}} \\right)^2\n",
    "$$\n",
    "\n",
    "The goal is to minimize the difference between a portfolio's characteristics and their target values, ensuring the portfolio matches the targets as closely as possible. This objective function is handled internally by the QUBO formulation."
   ]
  },
  {
   "cell_type": "code",
   "execution_count": 4,
   "metadata": {},
   "outputs": [],
   "source": [
    "# create objective function\n",
    "def objective_function(x):\n",
    "    \"\"\"Objective function for the reduced QUBO problem\"\"\"\n",
    "    return smaller_qubo.objective.evaluate(x)  # uses smaller_qubo instead"
   ]
  },
  {
   "cell_type": "markdown",
   "metadata": {},
   "source": [
    "## Backend Configuration\n",
    "\n",
    "Using **classical hardware** for noiseless quantum **simulation**, the backend is the AerSimulator, a concrete implementation of BackendV2, the abstract interface/protocol for all quantum backends in Qiskit."
   ]
  },
  {
   "cell_type": "code",
   "execution_count": 5,
   "metadata": {},
   "outputs": [
    {
     "name": "stdout",
     "output_type": "stream",
     "text": [
      "Backend: AerSimulator('aer_simulator_matrix_product_state')\n",
      "Number of qubits (backend): 10\n",
      "Number of qubits (problem): 10\n"
     ]
    }
   ],
   "source": [
    "num_vars = smaller_qubo.get_num_vars()\n",
    "\n",
    "# create backend simulator (AerSimulator)\n",
    "aer_options = {'method': 'matrix_product_state', 'n_qubits': num_vars}\n",
    "backend = AerSimulator(**aer_options)\n",
    "\n",
    "print(f\"Backend: {backend}\")\n",
    "print(f\"Number of qubits (backend): {backend.num_qubits}\")\n",
    "print(f\"Number of qubits (problem): {num_vars}\")"
   ]
  },
  {
   "cell_type": "markdown",
   "metadata": {},
   "source": [
    "## Ansatz Configuration"
   ]
  },
  {
   "cell_type": "code",
   "execution_count": 6,
   "metadata": {},
   "outputs": [
    {
     "name": "stdout",
     "output_type": "stream",
     "text": [
      "Configuration: TwoLocal with {'reps': 2, 'entanglement': 'full', 'rotation_blocks': 'ry', 'entanglement_blocks': 'cz', 'insert_barriers': False}\n",
      "Expected: Parameter-heavy with shallow circuits\n"
     ]
    }
   ],
   "source": [
    "# TwoLocal configuration\n",
    "ansatz = 'TwoLocal'\n",
    "ansatz_params = {\n",
    "    'reps': 2,  # low reps for shallow circuits\n",
    "    'entanglement': 'full',  # full entanglement for maximum connectivity\n",
    "    'rotation_blocks': 'ry',  # rotation gates\n",
    "    'entanglement_blocks': 'cz',  # controlled-Z entangling gates\n",
    "    'insert_barriers': False,  # no barriers for efficiency\n",
    "}\n",
    "\n",
    "print(f\"Configuration: {ansatz} with {ansatz_params}\")\n",
    "print(f\"Expected: Parameter-heavy with shallow circuits\")"
   ]
  },
  {
   "cell_type": "markdown",
   "metadata": {},
   "source": [
    "## Ansatz Building"
   ]
  },
  {
   "cell_type": "code",
   "execution_count": 7,
   "metadata": {},
   "outputs": [
    {
     "name": "stdout",
     "output_type": "stream",
     "text": [
      "Raw TwoLocal Ansatz has 30 parameters\n",
      "Circuit depth: 2\n",
      "Number of gates: 12\n",
      "Entanglement: full\n",
      "Repetitions: 2\n"
     ]
    }
   ],
   "source": [
    "# build TwoLocal ansatz\n",
    "ansatz_circuit, initial_layout = build_ansatz(\n",
    "    ansatz=ansatz,\n",
    "    ansatz_params=ansatz_params,\n",
    "    num_qubits=num_vars,\n",
    "    backend=backend\n",
    ")\n",
    "\n",
    "print(f\"Raw TwoLocal Ansatz has {ansatz_circuit.num_parameters} parameters\")\n",
    "print(f\"Circuit depth: {ansatz_circuit.depth()}\")\n",
    "print(f\"Number of gates: {len(ansatz_circuit.data)}\")\n",
    "print(f\"Entanglement: {ansatz_params['entanglement']}\")\n",
    "print(f\"Repetitions: {ansatz_params['reps']}\")"
   ]
  },
  {
   "cell_type": "markdown",
   "metadata": {},
   "source": [
    "## Ansatz Transpilation"
   ]
  },
  {
   "cell_type": "code",
   "execution_count": 8,
   "metadata": {},
   "outputs": [
    {
     "name": "stdout",
     "output_type": "stream",
     "text": [
      "Transpiling ansatz for target backend...\n",
      "Transpiled ansatz has 30 parameters\n",
      "Transpiled circuit depth: 31\n",
      "Transpiled gates: 131\n"
     ]
    }
   ],
   "source": [
    "# transpile the ansatz for the target backend\n",
    "print(\"Transpiling ansatz for target backend...\")\n",
    "isa_ansatz = generate_preset_pass_manager(target=backend.target, optimization_level=3, initial_layout=initial_layout).run(ansatz_circuit)\n",
    "\n",
    "print(f\"Transpiled ansatz has {isa_ansatz.num_parameters} parameters\")\n",
    "print(f\"Transpiled circuit depth: {isa_ansatz.depth()}\")\n",
    "print(f\"Transpiled gates: {len(isa_ansatz.data)}\")"
   ]
  },
  {
   "cell_type": "markdown",
   "metadata": {},
   "source": [
    "## Conditional Value at Risk (CVaR)\n",
    "\n",
    "CVaR is a generalization of both the sample mean and the minimum. It represents the expected value of the lowest α-fraction (i.e., the lower tail) of a distribution. In this case, the distribution of sampled energy values from a quantum Hamiltonian.\n",
    "\n",
    "According to Barkoutsos et al. (2020), to compute CVaR:\n",
    "\n",
    "- The Hamiltonian is sampled (measured indirectly) *K* times.\n",
    "- Each sample yields an energy value.\n",
    "- The energy values are sorted in ascending order (lowest to highest).\n",
    "- CVaR is then calculated as the average of the lowest ⌈αK⌉ values using the formula:\n",
    "\n",
    "$$\n",
    "\\text{CVaR}_\\alpha = \\frac{1}{\\lceil \\alpha K \\rceil} \\sum_{k=1}^{\\lceil \\alpha K \\rceil} H_k\n",
    "$$\n",
    "\n",
    "Here, $H_k$ denotes the k-th lowest observed energy value.\n",
    "\n",
    "In implementation:\n",
    "\n",
    "- The CVaR calculation is performed by the function <code>calc_cvar()</code> in <code>\"src/sbo/src/patterns/building_blocks/step3.py\"</code>.\n",
    "- Sampled measurement results are mapped to energy values by the function <code>_sampler_result_to_cvar()</code> in <code>\"src/sbo/src/patterns/building_blocks/step3.py\"</code>.\n",
    "\n",
    "## Standard VQE\n",
    "\n",
    "After translating a problem into QUBO form and constructing a Hamiltonian for an n-qubit system, the standard VQE algorithm samples (i.e., indirectly measures) the Hamiltonian *K* times. These measurement outcomes are summed and averaged to estimate the expectation value $\\langle \\psi(\\theta) | H | \\psi(\\theta) \\rangle$. The lowest expectation value, corresponding to a specific set of parameters in the chosen ansatz that minimizes the cost function, is taken as the optimal solution (bitstring) with high probability.\n",
    "\n",
    "## CVaR-VQE\n",
    "\n",
    "In contrast, CVaR-VQE optimizes a CVaR objective, focusing on the average of the worst $\\alpha$-fraction of sampled energies. The minimal CVaR value, corresponding to certain ansatz parameters minimizing this objective, is considered the optimal solution (bitstring)."
   ]
  },
  {
   "cell_type": "markdown",
   "metadata": {},
   "source": [
    "## Hardware Executor\n",
    "\n",
    "The HardwareExecutor orchestrates the entire VQA process. It initializes quantum circuit parameters using π/3 (≈1.047) as a reference value, which provides a good starting point for optimization. The CVaR parameters are set to focus on the worst 10% of measurements (alpha=0.1) with 512 quantum measurements per epoch.\n",
    "\n",
    "The executor uses the NFT (Natural Frequency Tuning) optimizer with the following configuration:\n",
    "- **objective_fun**: QUBO objective function to minimize\n",
    "- **backend**: Quantum simulator backend (AerSimulator)\n",
    "- **isa_ansatz**: TwoLocal quantum circuit ansatz\n",
    "- **optimizer_theta0**: Initial parameter values\n",
    "- **optimizer_method**: NFT optimizer\n",
    "- **sampler_options**: Quantum measurement settings\n",
    "- **solver_options**: Maximum 2 epochs, CVaR parameter, random parameter updates"
   ]
  },
  {
   "cell_type": "code",
   "execution_count": 9,
   "metadata": {},
   "outputs": [],
   "source": [
    "# initialize quantum circuit parameters\n",
    "theta_initial = np.pi/3 * np.ones(isa_ansatz.num_parameters)\n",
    "\n",
    "# cvar optimization parameters\n",
    "alpha = 0.1  # cvar parameter: focus on worst 10% of measurements # -- MODIFY HERE --\n",
    "shots = 512  # number of quantum measurements per epoch # -- MODIFY HERE --\n",
    "\n",
    "# create HardwareExecutor for quantum optimization\n",
    "he = HardwareExecutor(\n",
    "    objective_fun=objective_function,\n",
    "    backend=backend,\n",
    "    isa_ansatz=isa_ansatz,  # use transpiled ansatz\n",
    "    optimizer_theta0=theta_initial,\n",
    "    optimizer_method=\"nft\",\n",
    "    refvalue=None,\n",
    "    sampler_options={'default_shots': shots},\n",
    "    use_session=False,\n",
    "    verbose=\"progress\",\n",
    "    file_name=None,\n",
    "    store_all_x=True,\n",
    "    solver_options={\n",
    "        \"max_epoch\": 2,  # -- MODIFY HERE --\n",
    "        \"alpha\": alpha,\n",
    "        \"random_update\": True\n",
    "    }\n",
    ")"
   ]
  },
  {
   "cell_type": "markdown",
   "metadata": {},
   "source": [
    "## Simulation\n",
    "\n",
    "The TwoLocal VQA optimization with CVaR executes using AerSimulator, followed by local search refinement. The process involves:\n",
    "\n",
    "1. Initialization: Quantum circuit parameters are set using π/3 as reference values\n",
    "2. Iteration Loop: For each optimization iteration:\n",
    "   - Prepare quantum state using TwoLocal ansatz\n",
    "   - Measure Hamiltonian expectation value K times (shots)\n",
    "   - Calculate CVaR from the worst α-fraction of measurements\n",
    "   - Update parameters using NFT optimizer\n",
    "3. Convergence: Continue until convergence or max_epoch limit\n",
    "4. Local Search Phase: Apply classical local search to refine the best quantum solution\n",
    "5. Final Solution: Extract the best solution from the hybrid approach\n",
    "\n",
    "**Timeout Handling:** Execution time is monitored to track performance and ensure compliance with resource constraints (QPU time limits for real hardware, or performance metrics for simulators).\n",
    "\n",
    "**Partial Results:** If execution is interrupted, the partial solution remains valid and analyzable. The `HardwareExecutor` class captures the best solution found before interruption, ensuring incomplete runs produce usable results for comparison and analysis.\n",
    "\n",
    "The optimization extracts the best solution found, which includes:\n",
    "- **best_x**: Binary vector representing selected bonds (1=selected, 0=not selected)\n",
    "- **best_fx**: Objective function value (CVaR) of the best solution"
   ]
  },
  {
   "cell_type": "code",
   "execution_count": 10,
   "metadata": {
    "scrolled": true
   },
   "outputs": [
    {
     "name": "stdout",
     "output_type": "stream",
     "text": [
      "Starting TwoLocal VQA optimization with CVaR...\n"
     ]
    },
    {
     "name": "stderr",
     "output_type": "stream",
     "text": [
      "2025-10-16 23:56:23,533 INFO optimization_wrapper: run...\n",
      "2025-10-16 23:56:23,536 DEBUG optimization_wrapper: Using X0 [1.04719755 1.04719755 1.04719755 1.04719755 1.04719755 1.04719755\n",
      " 1.04719755 1.04719755 1.04719755 1.04719755 1.04719755 1.04719755\n",
      " 1.04719755 1.04719755 1.04719755 1.04719755 1.04719755 1.04719755\n",
      " 1.04719755 1.04719755 1.04719755 1.04719755 1.04719755 1.04719755\n",
      " 1.04719755 1.04719755 1.04719755 1.04719755 1.04719755 1.04719755]\n",
      "2025-10-16 23:56:23,537 INFO nft: Using parameters: max_epoch 2\n",
      "2025-10-16 23:56:23,538 INFO nft: Using parameters: random_update True\n",
      "2025-10-16 23:56:23,539 INFO nft: Using parameters: epoch_start 0\n",
      "2025-10-16 23:56:23,541 INFO nft: Using parameters: idx_set_start None\n",
      "2025-10-16 23:56:23,542 INFO nft: Using parameters: step_start 0\n",
      "2025-10-16 23:56:24,557 INFO optimization_monitor: optimizer internal status: () {'idx_set': array([ 3, 21, 17, 24,  0, 14, 15, 29,  8,  4, 12,  1, 23, 25,  7, 10,  2,\n",
      "       20, 13, 16, 26, 27, 19,  6,  9, 18, 11, 22,  5, 28]), 'epoch': 0, 'iter_in_epoch': 0, 'update': None, 'new_core_eval': True}\n",
      "2025-10-16 23:56:25,051 INFO optimization_monitor: optimizer internal status: () {'idx_set': array([ 3, 21, 17, 24,  0, 14, 15, 29,  8,  4, 12,  1, 23, 25,  7, 10,  2,\n",
      "       20, 13, 16, 26, 27, 19,  6,  9, 18, 11, 22,  5, 28]), 'epoch': 0, 'iter_in_epoch': 1, 'update': np.float64(0.55900579298976), 'new_core_eval': np.True_}\n",
      "2025-10-16 23:56:25,510 INFO optimization_monitor: optimizer internal status: () {'idx_set': array([ 3, 21, 17, 24,  0, 14, 15, 29,  8,  4, 12,  1, 23, 25,  7, 10,  2,\n",
      "       20, 13, 16, 26, 27, 19,  6,  9, 18, 11, 22,  5, 28]), 'epoch': 0, 'iter_in_epoch': 2, 'update': np.float64(0.5266272714337494), 'new_core_eval': np.True_}\n",
      "2025-10-16 23:56:25,945 INFO optimization_monitor: optimizer internal status: () {'idx_set': array([ 3, 21, 17, 24,  0, 14, 15, 29,  8,  4, 12,  1, 23, 25,  7, 10,  2,\n",
      "       20, 13, 16, 26, 27, 19,  6,  9, 18, 11, 22,  5, 28]), 'epoch': 0, 'iter_in_epoch': 3, 'update': np.float64(0.7853981633974483), 'new_core_eval': np.True_}\n",
      "2025-10-16 23:56:26,367 INFO optimization_monitor: optimizer internal status: () {'idx_set': array([ 3, 21, 17, 24,  0, 14, 15, 29,  8,  4, 12,  1, 23, 25,  7, 10,  2,\n",
      "       20, 13, 16, 26, 27, 19,  6,  9, 18, 11, 22,  5, 28]), 'epoch': 0, 'iter_in_epoch': 4, 'update': np.float64(0.7853981633974507), 'new_core_eval': np.True_}\n",
      "2025-10-16 23:56:26,799 INFO optimization_monitor: optimizer internal status: () {'idx_set': array([ 3, 21, 17, 24,  0, 14, 15, 29,  8,  4, 12,  1, 23, 25,  7, 10,  2,\n",
      "       20, 13, 16, 26, 27, 19,  6,  9, 18, 11, 22,  5, 28]), 'epoch': 0, 'iter_in_epoch': 5, 'update': np.float64(0.7853981633974472), 'new_core_eval': np.True_}\n",
      "2025-10-16 23:56:27,249 INFO optimization_monitor: optimizer internal status: () {'idx_set': array([ 3, 21, 17, 24,  0, 14, 15, 29,  8,  4, 12,  1, 23, 25,  7, 10,  2,\n",
      "       20, 13, 16, 26, 27, 19,  6,  9, 18, 11, 22,  5, 28]), 'epoch': 0, 'iter_in_epoch': 6, 'update': np.float64(0.7853981633973948), 'new_core_eval': np.True_}\n",
      "2025-10-16 23:56:27,673 INFO optimization_monitor: optimizer internal status: () {'idx_set': array([ 3, 21, 17, 24,  0, 14, 15, 29,  8,  4, 12,  1, 23, 25,  7, 10,  2,\n",
      "       20, 13, 16, 26, 27, 19,  6,  9, 18, 11, 22,  5, 28]), 'epoch': 0, 'iter_in_epoch': 7, 'update': np.float64(3.3865713167166573), 'new_core_eval': np.True_}\n",
      "2025-10-16 23:56:28,110 INFO optimization_monitor: optimizer internal status: () {'idx_set': array([ 3, 21, 17, 24,  0, 14, 15, 29,  8,  4, 12,  1, 23, 25,  7, 10,  2,\n",
      "       20, 13, 16, 26, 27, 19,  6,  9, 18, 11, 22,  5, 28]), 'epoch': 0, 'iter_in_epoch': 8, 'update': np.float64(0.9271545316942447), 'new_core_eval': np.True_}\n",
      "2025-10-16 23:56:28,546 INFO optimization_monitor: optimizer internal status: () {'idx_set': array([ 3, 21, 17, 24,  0, 14, 15, 29,  8,  4, 12,  1, 23, 25,  7, 10,  2,\n",
      "       20, 13, 16, 26, 27, 19,  6,  9, 18, 11, 22,  5, 28]), 'epoch': 0, 'iter_in_epoch': 9, 'update': np.float64(0.9856364154880788), 'new_core_eval': np.True_}\n",
      "2025-10-16 23:56:28,980 INFO optimization_monitor: optimizer internal status: () {'idx_set': array([ 3, 21, 17, 24,  0, 14, 15, 29,  8,  4, 12,  1, 23, 25,  7, 10,  2,\n",
      "       20, 13, 16, 26, 27, 19,  6,  9, 18, 11, 22,  5, 28]), 'epoch': 0, 'iter_in_epoch': 10, 'update': np.float64(3.1689308954500817), 'new_core_eval': np.True_}\n",
      "2025-10-16 23:56:29,427 INFO optimization_monitor: optimizer internal status: () {'idx_set': array([ 3, 21, 17, 24,  0, 14, 15, 29,  8,  4, 12,  1, 23, 25,  7, 10,  2,\n",
      "       20, 13, 16, 26, 27, 19,  6,  9, 18, 11, 22,  5, 28]), 'epoch': 0, 'iter_in_epoch': 11, 'update': np.float64(1.5671878101937662), 'new_core_eval': np.True_}\n",
      "2025-10-16 23:56:29,852 INFO optimization_monitor: optimizer internal status: () {'idx_set': array([ 3, 21, 17, 24,  0, 14, 15, 29,  8,  4, 12,  1, 23, 25,  7, 10,  2,\n",
      "       20, 13, 16, 26, 27, 19,  6,  9, 18, 11, 22,  5, 28]), 'epoch': 0, 'iter_in_epoch': 12, 'update': np.float64(0.14189705460417135), 'new_core_eval': np.True_}\n",
      "2025-10-16 23:56:30,268 INFO optimization_monitor: optimizer internal status: () {'idx_set': array([ 3, 21, 17, 24,  0, 14, 15, 29,  8,  4, 12,  1, 23, 25,  7, 10,  2,\n",
      "       20, 13, 16, 26, 27, 19,  6,  9, 18, 11, 22,  5, 28]), 'epoch': 0, 'iter_in_epoch': 13, 'update': np.float64(1.570796326794843), 'new_core_eval': np.True_}\n",
      "2025-10-16 23:56:30,684 INFO optimization_monitor: optimizer internal status: () {'idx_set': array([ 3, 21, 17, 24,  0, 14, 15, 29,  8,  4, 12,  1, 23, 25,  7, 10,  2,\n",
      "       20, 13, 16, 26, 27, 19,  6,  9, 18, 11, 22,  5, 28]), 'epoch': 0, 'iter_in_epoch': 14, 'update': np.float64(0.12435499454678367), 'new_core_eval': np.True_}\n",
      "2025-10-16 23:56:31,117 INFO optimization_monitor: optimizer internal status: () {'idx_set': array([ 3, 21, 17, 24,  0, 14, 15, 29,  8,  4, 12,  1, 23, 25,  7, 10,  2,\n",
      "       20, 13, 16, 26, 27, 19,  6,  9, 18, 11, 22,  5, 28]), 'epoch': 0, 'iter_in_epoch': 15, 'update': np.float64(0.47824427476108), 'new_core_eval': np.True_}\n",
      "2025-10-16 23:56:31,530 INFO optimization_monitor: optimizer internal status: () {'idx_set': array([ 3, 21, 17, 24,  0, 14, 15, 29,  8,  4, 12,  1, 23, 25,  7, 10,  2,\n",
      "       20, 13, 16, 26, 27, 19,  6,  9, 18, 11, 22,  5, 28]), 'epoch': 0, 'iter_in_epoch': 16, 'update': np.float64(0.6148748403838145), 'new_core_eval': np.True_}\n",
      "2025-10-16 23:56:31,960 INFO optimization_monitor: optimizer internal status: () {'idx_set': array([ 3, 21, 17, 24,  0, 14, 15, 29,  8,  4, 12,  1, 23, 25,  7, 10,  2,\n",
      "       20, 13, 16, 26, 27, 19,  6,  9, 18, 11, 22,  5, 28]), 'epoch': 0, 'iter_in_epoch': 17, 'update': np.float64(0.3906070436976896), 'new_core_eval': np.True_}\n",
      "2025-10-16 23:56:32,364 INFO optimization_monitor: optimizer internal status: () {'idx_set': array([ 3, 21, 17, 24,  0, 14, 15, 29,  8,  4, 12,  1, 23, 25,  7, 10,  2,\n",
      "       20, 13, 16, 26, 27, 19,  6,  9, 18, 11, 22,  5, 28]), 'epoch': 0, 'iter_in_epoch': 18, 'update': np.float64(0.722550107838879), 'new_core_eval': np.True_}\n",
      "2025-10-16 23:56:32,749 INFO optimization_monitor: optimizer internal status: () {'idx_set': array([ 3, 21, 17, 24,  0, 14, 15, 29,  8,  4, 12,  1, 23, 25,  7, 10,  2,\n",
      "       20, 13, 16, 26, 27, 19,  6,  9, 18, 11, 22,  5, 28]), 'epoch': 0, 'iter_in_epoch': 19, 'update': np.float64(-0.3536232946398967), 'new_core_eval': np.True_}\n",
      "2025-10-16 23:56:33,128 INFO optimization_monitor: optimizer internal status: () {'idx_set': array([ 3, 21, 17, 24,  0, 14, 15, 29,  8,  4, 12,  1, 23, 25,  7, 10,  2,\n",
      "       20, 13, 16, 26, 27, 19,  6,  9, 18, 11, 22,  5, 28]), 'epoch': 0, 'iter_in_epoch': 20, 'update': np.float64(0.937813889171996), 'new_core_eval': np.True_}\n",
      "2025-10-16 23:56:33,528 INFO optimization_monitor: optimizer internal status: () {'idx_set': array([ 3, 21, 17, 24,  0, 14, 15, 29,  8,  4, 12,  1, 23, 25,  7, 10,  2,\n",
      "       20, 13, 16, 26, 27, 19,  6,  9, 18, 11, 22,  5, 28]), 'epoch': 0, 'iter_in_epoch': 21, 'update': np.float64(0.7605289081459705), 'new_core_eval': np.True_}\n",
      "2025-10-16 23:56:33,920 INFO optimization_monitor: optimizer internal status: () {'idx_set': array([ 3, 21, 17, 24,  0, 14, 15, 29,  8,  4, 12,  1, 23, 25,  7, 10,  2,\n",
      "       20, 13, 16, 26, 27, 19,  6,  9, 18, 11, 22,  5, 28]), 'epoch': 0, 'iter_in_epoch': 22, 'update': np.float64(0.7853981633974461), 'new_core_eval': np.True_}\n",
      "2025-10-16 23:56:34,309 INFO optimization_monitor: optimizer internal status: () {'idx_set': array([ 3, 21, 17, 24,  0, 14, 15, 29,  8,  4, 12,  1, 23, 25,  7, 10,  2,\n",
      "       20, 13, 16, 26, 27, 19,  6,  9, 18, 11, 22,  5, 28]), 'epoch': 0, 'iter_in_epoch': 23, 'update': np.float64(-0.600802464367851), 'new_core_eval': np.True_}\n",
      "2025-10-16 23:56:34,678 INFO optimization_monitor: optimizer internal status: () {'idx_set': array([ 3, 21, 17, 24,  0, 14, 15, 29,  8,  4, 12,  1, 23, 25,  7, 10,  2,\n",
      "       20, 13, 16, 26, 27, 19,  6,  9, 18, 11, 22,  5, 28]), 'epoch': 0, 'iter_in_epoch': 24, 'update': np.float64(0.2932263084283988), 'new_core_eval': np.True_}\n",
      "2025-10-16 23:56:35,055 INFO optimization_monitor: optimizer internal status: () {'idx_set': array([ 3, 21, 17, 24,  0, 14, 15, 29,  8,  4, 12,  1, 23, 25,  7, 10,  2,\n",
      "       20, 13, 16, 26, 27, 19,  6,  9, 18, 11, 22,  5, 28]), 'epoch': 0, 'iter_in_epoch': 25, 'update': np.float64(0.05258306161093995), 'new_core_eval': np.True_}\n",
      "2025-10-16 23:56:35,406 INFO optimization_monitor: optimizer internal status: () {'idx_set': array([ 3, 21, 17, 24,  0, 14, 15, 29,  8,  4, 12,  1, 23, 25,  7, 10,  2,\n",
      "       20, 13, 16, 26, 27, 19,  6,  9, 18, 11, 22,  5, 28]), 'epoch': 0, 'iter_in_epoch': 26, 'update': np.float64(-0.14881728326697163), 'new_core_eval': np.True_}\n",
      "2025-10-16 23:56:35,771 INFO optimization_monitor: optimizer internal status: () {'idx_set': array([ 3, 21, 17, 24,  0, 14, 15, 29,  8,  4, 12,  1, 23, 25,  7, 10,  2,\n",
      "       20, 13, 16, 26, 27, 19,  6,  9, 18, 11, 22,  5, 28]), 'epoch': 0, 'iter_in_epoch': 27, 'update': np.float64(-0.20981396506129701), 'new_core_eval': np.True_}\n",
      "2025-10-16 23:56:36,109 INFO optimization_monitor: optimizer internal status: () {'idx_set': array([ 3, 21, 17, 24,  0, 14, 15, 29,  8,  4, 12,  1, 23, 25,  7, 10,  2,\n",
      "       20, 13, 16, 26, 27, 19,  6,  9, 18, 11, 22,  5, 28]), 'epoch': 0, 'iter_in_epoch': 28, 'update': np.float64(0.7853981633974549), 'new_core_eval': np.True_}\n",
      "2025-10-16 23:56:36,463 INFO optimization_monitor: optimizer internal status: () {'idx_set': array([ 3, 21, 17, 24,  0, 14, 15, 29,  8,  4, 12,  1, 23, 25,  7, 10,  2,\n",
      "       20, 13, 16, 26, 27, 19,  6,  9, 18, 11, 22,  5, 28]), 'epoch': 0, 'iter_in_epoch': 29, 'update': np.float64(0.5070985043923437), 'new_core_eval': np.True_}\n",
      "2025-10-16 23:56:36,823 INFO optimization_monitor: optimizer internal status: () {'idx_set': array([ 7, 21, 16, 15, 29,  5, 18, 28, 19,  3, 14, 26,  6, 10, 27, 23,  8,\n",
      "       13, 20, 25, 11,  0,  2,  9, 17,  1, 12, 24, 22,  4]), 'epoch': 1, 'iter_in_epoch': 0, 'update': np.float64(0.7022569315090337), 'new_core_eval': np.True_}\n",
      "2025-10-16 23:56:37,228 INFO optimization_monitor: optimizer internal status: () {'idx_set': array([ 7, 21, 16, 15, 29,  5, 18, 28, 19,  3, 14, 26,  6, 10, 27, 23,  8,\n",
      "       13, 20, 25, 11,  0,  2,  9, 17,  1, 12, 24, 22,  4]), 'epoch': 1, 'iter_in_epoch': 1, 'update': np.float64(1.0303768265241846), 'new_core_eval': np.True_}\n",
      "2025-10-16 23:56:37,780 INFO optimization_monitor: optimizer internal status: () {'idx_set': array([ 7, 21, 16, 15, 29,  5, 18, 28, 19,  3, 14, 26,  6, 10, 27, 23,  8,\n",
      "       13, 20, 25, 11,  0,  2,  9, 17,  1, 12, 24, 22,  4]), 'epoch': 1, 'iter_in_epoch': 2, 'update': np.float64(0.13497998031867886), 'new_core_eval': np.True_}\n",
      "2025-10-16 23:56:38,150 INFO optimization_monitor: optimizer internal status: () {'idx_set': array([ 7, 21, 16, 15, 29,  5, 18, 28, 19,  3, 14, 26,  6, 10, 27, 23,  8,\n",
      "       13, 20, 25, 11,  0,  2,  9, 17,  1, 12, 24, 22,  4]), 'epoch': 1, 'iter_in_epoch': 3, 'update': np.float64(-0.46372440153462113), 'new_core_eval': np.True_}\n",
      "2025-10-16 23:56:38,515 INFO optimization_monitor: optimizer internal status: () {'idx_set': array([ 7, 21, 16, 15, 29,  5, 18, 28, 19,  3, 14, 26,  6, 10, 27, 23,  8,\n",
      "       13, 20, 25, 11,  0,  2,  9, 17,  1, 12, 24, 22,  4]), 'epoch': 1, 'iter_in_epoch': 4, 'update': np.float64(1.678885634439566), 'new_core_eval': np.True_}\n",
      "2025-10-16 23:56:38,924 INFO optimization_monitor: optimizer internal status: () {'idx_set': array([ 7, 21, 16, 15, 29,  5, 18, 28, 19,  3, 14, 26,  6, 10, 27, 23,  8,\n",
      "       13, 20, 25, 11,  0,  2,  9, 17,  1, 12, 24, 22,  4]), 'epoch': 1, 'iter_in_epoch': 5, 'update': np.float64(0.2646201039481735), 'new_core_eval': np.True_}\n",
      "2025-10-16 23:56:39,327 INFO optimization_monitor: optimizer internal status: () {'idx_set': array([ 7, 21, 16, 15, 29,  5, 18, 28, 19,  3, 14, 26,  6, 10, 27, 23,  8,\n",
      "       13, 20, 25, 11,  0,  2,  9, 17,  1, 12, 24, 22,  4]), 'epoch': 1, 'iter_in_epoch': 6, 'update': np.float64(0.632502556541136), 'new_core_eval': np.True_}\n",
      "2025-10-16 23:56:39,727 INFO optimization_monitor: optimizer internal status: () {'idx_set': array([ 7, 21, 16, 15, 29,  5, 18, 28, 19,  3, 14, 26,  6, 10, 27, 23,  8,\n",
      "       13, 20, 25, 11,  0,  2,  9, 17,  1, 12, 24, 22,  4]), 'epoch': 1, 'iter_in_epoch': 7, 'update': np.float64(-0.7853981633974448), 'new_core_eval': np.True_}\n",
      "2025-10-16 23:56:40,128 INFO optimization_monitor: optimizer internal status: () {'idx_set': array([ 7, 21, 16, 15, 29,  5, 18, 28, 19,  3, 14, 26,  6, 10, 27, 23,  8,\n",
      "       13, 20, 25, 11,  0,  2,  9, 17,  1, 12, 24, 22,  4]), 'epoch': 1, 'iter_in_epoch': 8, 'update': np.float64(-0.7194419381163801), 'new_core_eval': np.True_}\n",
      "2025-10-16 23:56:40,514 INFO optimization_monitor: optimizer internal status: () {'idx_set': array([ 7, 21, 16, 15, 29,  5, 18, 28, 19,  3, 14, 26,  6, 10, 27, 23,  8,\n",
      "       13, 20, 25, 11,  0,  2,  9, 17,  1, 12, 24, 22,  4]), 'epoch': 1, 'iter_in_epoch': 9, 'update': np.float64(-0.5544809687243276), 'new_core_eval': np.True_}\n",
      "2025-10-16 23:56:40,890 INFO optimization_monitor: optimizer internal status: () {'idx_set': array([ 7, 21, 16, 15, 29,  5, 18, 28, 19,  3, 14, 26,  6, 10, 27, 23,  8,\n",
      "       13, 20, 25, 11,  0,  2,  9, 17,  1, 12, 24, 22,  4]), 'epoch': 1, 'iter_in_epoch': 10, 'update': np.float64(-0.7853981633974617), 'new_core_eval': np.True_}\n",
      "2025-10-16 23:56:41,261 INFO optimization_monitor: optimizer internal status: () {'idx_set': array([ 7, 21, 16, 15, 29,  5, 18, 28, 19,  3, 14, 26,  6, 10, 27, 23,  8,\n",
      "       13, 20, 25, 11,  0,  2,  9, 17,  1, 12, 24, 22,  4]), 'epoch': 1, 'iter_in_epoch': 11, 'update': np.float64(1.234994371631199), 'new_core_eval': np.True_}\n",
      "2025-10-16 23:56:41,639 INFO optimization_monitor: optimizer internal status: () {'idx_set': array([ 7, 21, 16, 15, 29,  5, 18, 28, 19,  3, 14, 26,  6, 10, 27, 23,  8,\n",
      "       13, 20, 25, 11,  0,  2,  9, 17,  1, 12, 24, 22,  4]), 'epoch': 1, 'iter_in_epoch': 12, 'update': np.float64(-0.18998828791872002), 'new_core_eval': np.True_}\n",
      "2025-10-16 23:56:42,026 INFO optimization_monitor: optimizer internal status: () {'idx_set': array([ 7, 21, 16, 15, 29,  5, 18, 28, 19,  3, 14, 26,  6, 10, 27, 23,  8,\n",
      "       13, 20, 25, 11,  0,  2,  9, 17,  1, 12, 24, 22,  4]), 'epoch': 1, 'iter_in_epoch': 13, 'update': np.float64(0.13640260440095986), 'new_core_eval': np.True_}\n",
      "2025-10-16 23:56:42,368 INFO optimization_monitor: optimizer internal status: () {'idx_set': array([ 7, 21, 16, 15, 29,  5, 18, 28, 19,  3, 14, 26,  6, 10, 27, 23,  8,\n",
      "       13, 20, 25, 11,  0,  2,  9, 17,  1, 12, 24, 22,  4]), 'epoch': 1, 'iter_in_epoch': 14, 'update': np.float64(0.7567292004624961), 'new_core_eval': np.True_}\n",
      "2025-10-16 23:56:42,717 INFO optimization_monitor: optimizer internal status: () {'idx_set': array([ 7, 21, 16, 15, 29,  5, 18, 28, 19,  3, 14, 26,  6, 10, 27, 23,  8,\n",
      "       13, 20, 25, 11,  0,  2,  9, 17,  1, 12, 24, 22,  4]), 'epoch': 1, 'iter_in_epoch': 15, 'update': np.float64(-0.07529054870835594), 'new_core_eval': np.True_}\n",
      "2025-10-16 23:56:43,054 INFO optimization_monitor: optimizer internal status: () {'idx_set': array([ 7, 21, 16, 15, 29,  5, 18, 28, 19,  3, 14, 26,  6, 10, 27, 23,  8,\n",
      "       13, 20, 25, 11,  0,  2,  9, 17,  1, 12, 24, 22,  4]), 'epoch': 1, 'iter_in_epoch': 16, 'update': np.float64(-0.3159838216464159), 'new_core_eval': np.True_}\n",
      "2025-10-16 23:56:43,398 INFO optimization_monitor: optimizer internal status: () {'idx_set': array([ 7, 21, 16, 15, 29,  5, 18, 28, 19,  3, 14, 26,  6, 10, 27, 23,  8,\n",
      "       13, 20, 25, 11,  0,  2,  9, 17,  1, 12, 24, 22,  4]), 'epoch': 1, 'iter_in_epoch': 17, 'update': np.float64(0.243410186396118), 'new_core_eval': np.True_}\n",
      "2025-10-16 23:56:43,774 INFO optimization_monitor: optimizer internal status: () {'idx_set': array([ 7, 21, 16, 15, 29,  5, 18, 28, 19,  3, 14, 26,  6, 10, 27, 23,  8,\n",
      "       13, 20, 25, 11,  0,  2,  9, 17,  1, 12, 24, 22,  4]), 'epoch': 1, 'iter_in_epoch': 18, 'update': np.float64(-0.5280744484263593), 'new_core_eval': np.True_}\n",
      "2025-10-16 23:56:44,108 INFO optimization_monitor: optimizer internal status: () {'idx_set': array([ 7, 21, 16, 15, 29,  5, 18, 28, 19,  3, 14, 26,  6, 10, 27, 23,  8,\n",
      "       13, 20, 25, 11,  0,  2,  9, 17,  1, 12, 24, 22,  4]), 'epoch': 1, 'iter_in_epoch': 19, 'update': np.float64(-0.1682067718570761), 'new_core_eval': np.True_}\n",
      "2025-10-16 23:56:44,443 INFO optimization_monitor: optimizer internal status: () {'idx_set': array([ 7, 21, 16, 15, 29,  5, 18, 28, 19,  3, 14, 26,  6, 10, 27, 23,  8,\n",
      "       13, 20, 25, 11,  0,  2,  9, 17,  1, 12, 24, 22,  4]), 'epoch': 1, 'iter_in_epoch': 20, 'update': np.float64(-0.09966865249116053), 'new_core_eval': np.True_}\n",
      "2025-10-16 23:56:44,780 INFO optimization_monitor: optimizer internal status: () {'idx_set': array([ 7, 21, 16, 15, 29,  5, 18, 28, 19,  3, 14, 26,  6, 10, 27, 23,  8,\n",
      "       13, 20, 25, 11,  0,  2,  9, 17,  1, 12, 24, 22,  4]), 'epoch': 1, 'iter_in_epoch': 21, 'update': np.float64(0.07884521353685614), 'new_core_eval': np.True_}\n",
      "2025-10-16 23:56:45,139 INFO optimization_monitor: optimizer internal status: () {'idx_set': array([ 7, 21, 16, 15, 29,  5, 18, 28, 19,  3, 14, 26,  6, 10, 27, 23,  8,\n",
      "       13, 20, 25, 11,  0,  2,  9, 17,  1, 12, 24, 22,  4]), 'epoch': 1, 'iter_in_epoch': 22, 'update': np.float64(-0.4543020866933043), 'new_core_eval': np.True_}\n",
      "2025-10-16 23:56:45,512 INFO optimization_monitor: optimizer internal status: () {'idx_set': array([ 7, 21, 16, 15, 29,  5, 18, 28, 19,  3, 14, 26,  6, 10, 27, 23,  8,\n",
      "       13, 20, 25, 11,  0,  2,  9, 17,  1, 12, 24, 22,  4]), 'epoch': 1, 'iter_in_epoch': 23, 'update': np.float64(0.16398360429626568), 'new_core_eval': np.True_}\n",
      "2025-10-16 23:56:45,855 INFO optimization_monitor: optimizer internal status: () {'idx_set': array([ 7, 21, 16, 15, 29,  5, 18, 28, 19,  3, 14, 26,  6, 10, 27, 23,  8,\n",
      "       13, 20, 25, 11,  0,  2,  9, 17,  1, 12, 24, 22,  4]), 'epoch': 1, 'iter_in_epoch': 24, 'update': np.float64(-0.37298772180005557), 'new_core_eval': np.True_}\n",
      "2025-10-16 23:56:46,206 INFO optimization_monitor: optimizer internal status: () {'idx_set': array([ 7, 21, 16, 15, 29,  5, 18, 28, 19,  3, 14, 26,  6, 10, 27, 23,  8,\n",
      "       13, 20, 25, 11,  0,  2,  9, 17,  1, 12, 24, 22,  4]), 'epoch': 1, 'iter_in_epoch': 25, 'update': np.float64(0.3843369848721039), 'new_core_eval': np.True_}\n",
      "2025-10-16 23:56:46,542 INFO optimization_monitor: optimizer internal status: () {'idx_set': array([ 7, 21, 16, 15, 29,  5, 18, 28, 19,  3, 14, 26,  6, 10, 27, 23,  8,\n",
      "       13, 20, 25, 11,  0,  2,  9, 17,  1, 12, 24, 22,  4]), 'epoch': 1, 'iter_in_epoch': 26, 'update': np.float64(0.22344782440610844), 'new_core_eval': np.True_}\n",
      "2025-10-16 23:56:46,851 INFO optimization_monitor: optimizer internal status: () {'idx_set': array([ 7, 21, 16, 15, 29,  5, 18, 28, 19,  3, 14, 26,  6, 10, 27, 23,  8,\n",
      "       13, 20, 25, 11,  0,  2,  9, 17,  1, 12, 24, 22,  4]), 'epoch': 1, 'iter_in_epoch': 27, 'update': np.float64(-0.32151995760094376), 'new_core_eval': np.True_}\n",
      "2025-10-16 23:56:47,185 INFO optimization_monitor: optimizer internal status: () {'idx_set': array([ 7, 21, 16, 15, 29,  5, 18, 28, 19,  3, 14, 26,  6, 10, 27, 23,  8,\n",
      "       13, 20, 25, 11,  0,  2,  9, 17,  1, 12, 24, 22,  4]), 'epoch': 1, 'iter_in_epoch': 28, 'update': np.float64(3.1415926535897833), 'new_core_eval': np.True_}\n",
      "2025-10-16 23:56:47,511 INFO optimization_monitor: optimizer internal status: () {'idx_set': array([ 7, 21, 16, 15, 29,  5, 18, 28, 19,  3, 14, 26,  6, 10, 27, 23,  8,\n",
      "       13, 20, 25, 11,  0,  2,  9, 17,  1, 12, 24, 22,  4]), 'epoch': 1, 'iter_in_epoch': 29, 'update': np.float64(0.7853981633974485), 'new_core_eval': np.True_}\n",
      "2025-10-16 23:56:47,861 INFO optimization_monitor: optimizer internal status: () {'idx_set': array([ 7, 21, 16, 15, 29,  5, 18, 28, 19,  3, 14, 26,  6, 10, 27, 23,  8,\n",
      "       13, 20, 25, 11,  0,  2,  9, 17,  1, 12, 24, 22,  4]), 'epoch': 1, 'iter_in_epoch': 29, 'update': np.float64(0.7853981633974483), 'new_core_eval': np.True_}\n"
     ]
    },
    {
     "name": "stdout",
     "output_type": "stream",
     "text": [
      "Quantum optimization ended in 24.34 seconds\n",
      "Quantum best solution: [1. 1. 1. 1. 1. 1. 1. 1. 1. 1.]\n",
      "Quantum best objective value: -1444.0188979272036\n"
     ]
    }
   ],
   "source": [
    "# run the TwoLocal VQA optimization with cvar\n",
    "print(\"Starting TwoLocal VQA optimization with CVaR...\")\n",
    "\n",
    "# record start time for performance measurement\n",
    "start_time = time.time()\n",
    "\n",
    "# set maximum time limit\n",
    "max_time_seconds = 9 * 60 # 9 minutes to leave 1 min buffer\n",
    "\n",
    "# execute the variational quantum optimization\n",
    "result = he.run()\n",
    "\n",
    "# check if execution exceeded maximum time limit\n",
    "if time.time() - start_time > max_time_seconds:\n",
    "    print(\"Warning: Execution exceeded 10-minute QPU time limit!\")\n",
    "\n",
    "# record end time and calculate total optimization time\n",
    "end_time = time.time()\n",
    "print(f\"Quantum optimization ended in {end_time - start_time:.2f} seconds\")\n",
    "\n",
    "# extract the best solution found during quantum optimization\n",
    "best_x_quantum = he.optimization_monitor.objective_monitor.best_x\n",
    "best_fx_quantum = he.optimization_monitor.objective_monitor.best_fx\n",
    "\n",
    "print(f\"Quantum best solution: {best_x_quantum}\")\n",
    "print(f\"Quantum best objective value: {best_fx_quantum}\")"
   ]
  },
  {
   "cell_type": "markdown",
   "metadata": {},
   "source": [
    "## Post-Processing: Local Search\n",
    "\n",
    "The local search phase applies classical optimization to refine the best quantum solution.\n",
    "\n",
    "## Local Search Configuration\n",
    "\n",
    "The `repeated_local_search_general()` function takes these parameters:\n",
    "- **x**: Quantum best solution\n",
    "- **val**: Quantum best objective value\n",
    "- **func**: Numba-compatible objective function\n",
    "- **options**: Configuration dictionary\n",
    "\n",
    "The first two parameters are already obtained, while the remaining two must be set prior to running local search.\n",
    "\n",
    "### Func: Numba-Compatible Objective Function\n",
    "\n",
    "Since local search uses numba-compiled code for speed, the CPLEX-parsable LP file must be converted into a docplex model. This model is then passed to the `model_to_obj()` function to generate a numba-compatible objective function. The previously loaded `quadratic_problem` (created from the same LP file) cannot be used because it produces a `QuadraticProgram` object, which is not compatible with the `model_to_obj()` function, as it expects a docplex model.\n",
    "\n",
    "- LP file → QuadraticProgram → objective function is **not numba-compatible** → usable for quantum phase, **not usable for local search**\n",
    "- LP file → docplex model → objective function is **numba-compatible** → **usable for local search**\n",
    "\n",
    "The local search objective function is built from the full 31-variable LP file but automatically handles variable-length input arrays. NumPy's broadcasting behavior allows the function to work with reduced solutions by treating missing elements as zeros, ensuring compatibility between the reduced quantum solution and the full-problem objective function."
   ]
  },
  {
   "cell_type": "code",
   "execution_count": 11,
   "metadata": {},
   "outputs": [
    {
     "name": "stdout",
     "output_type": "stream",
     "text": [
      "31 15\n"
     ]
    }
   ],
   "source": [
    "# create a docplex Model object\n",
    "docplex_model = docplex.mp.model_reader.ModelReader.read(lp_file_path)\n",
    "\n",
    "# decorate the objective function to be numba compatible\n",
    "numba_compatiable_objective_function = model_to_obj(docplex_model)"
   ]
  },
  {
   "cell_type": "markdown",
   "metadata": {},
   "source": [
    "### Options: Configuration Dictionary\n",
    "\n",
    "- **num_bitflips**: Number of bits to flip per iteration (set to 1 for fine-tuning).\n",
    "- **maxepoch**: Maximum number of local search epochs (set to 8). This complements the 2 epochs from the quantum phase, resulting in a total of 10 epochs in the hybrid approach.\n",
    "- **maxfevals_per_variable**: Maximum number of times the objective function is evaluated per variable during one epoch of local search (set to 3 for a balance between solution quality and speed). For example, with 10 variables and this parameter set to 3, the algorithm performs up to 30 evaluations per epoch.\n",
    "- **refval**: Must be a float (not None) to avoid typing errors. Local search stops when the current value is close to or better than this reference value (set to infinity to disable early stopping)."
   ]
  },
  {
   "cell_type": "code",
   "execution_count": 12,
   "metadata": {},
   "outputs": [],
   "source": [
    "# create doe_localsearch pattern\n",
    "doe_ls = {\n",
    "    'local_search_doe': 'balance',\n",
    "    'local_search_num_bitflips': 1,\n",
    "    'local_search_maxiter': None,\n",
    "    'local_search_maxepoch': 8,  # -- MODIFY HERE --\n",
    "    'local_search_maxfevals_per_variable': 3\n",
    "}\n",
    "\n",
    "# calculate maxfevals based on number of variables\n",
    "if 'local_search_maxfevals_per_variable' in doe_ls:\n",
    "    doe_ls['local_search_maxfevals'] = len(best_x_quantum) * doe_ls.pop('local_search_maxfevals_per_variable')\n",
    "\n",
    "# define refval # cannot be none\n",
    "refval = float('inf')"
   ]
  },
  {
   "cell_type": "code",
   "execution_count": 13,
   "metadata": {},
   "outputs": [
    {
     "name": "stdout",
     "output_type": "stream",
     "text": [
      "Starting local search refinement...\n",
      "Local search completed in 5.22 seconds\n",
      "Hybrid best solution: [1. 1. 1. 1. 1. 1. 1. 1. 1. 1.]\n",
      "Hybrid best objective value: -1444.0188979272036\n",
      "Improvement: 0.000000\n"
     ]
    }
   ],
   "source": [
    "# apply local search post-processing\n",
    "print(\"Starting local search refinement...\")\n",
    "\n",
    "# record start time for performance measurement\n",
    "local_search_start = time.time()\n",
    "\n",
    "# call local search\n",
    "best_x_hybrid, best_fx_hybrid, num_epochs, num_fevals, vals = repeated_local_search_general(\n",
    "    x=best_x_quantum,\n",
    "    val=best_fx_quantum,\n",
    "    func=numba_compatiable_objective_function,\n",
    "    options=doe_ls | {'refval': refval}\n",
    ")\n",
    "\n",
    "# create result dictionary to match postprocess format\n",
    "refined_solution = {\n",
    "    'status': 'success',\n",
    "    'objective': float(best_fx_hybrid),\n",
    "    'solution': best_x_hybrid,\n",
    "    'execution_callback_count': he.optimization_monitor.callback_count,\n",
    "    'execution_results': he.optimization_monitor.list_callback_res,\n",
    "    'execution_f_value_best': he.optimization_monitor.list_callback_monitor_best,\n",
    "    'message': \"Local search completed successfully\"\n",
    "}\n",
    "\n",
    "# record end time and calculate total local search time\n",
    "local_search_end = time.time()\n",
    "print(f\"Local search completed in {local_search_end - local_search_start:.2f} seconds\")\n",
    "print(f\"Hybrid best solution: {best_x_hybrid}\")\n",
    "print(f\"Hybrid best objective value: {best_fx_hybrid}\")\n",
    "print(f\"Improvement: {best_fx_quantum - best_fx_hybrid:.6f}\")"
   ]
  },
  {
   "cell_type": "markdown",
   "metadata": {},
   "source": [
    "## Result\n",
    "\n",
    "The experiment is saved as a pickle file containing all the necessary data for analysis, reproducibility, debugging, and research. The saved data includes optimization results, convergence data, performance metrics, configuration settings, and experiment metadata.\n",
    "\n",
    "The experiment object includes:\n",
    "- Configuration: Ansatz, parameters, optimizer settings, CVaR alpha, local search settings\n",
    "- Performance: Execution time, iterations, convergence behavior\n",
    "- Results: Best solution, objective value, relative gap\n",
    "- Monitoring: Parameter evolution, objective function calls, optimization trajectory\n",
    "- Hardware: Backend, shots, classical hardware specs"
   ]
  },
  {
   "cell_type": "code",
   "execution_count": 14,
   "metadata": {},
   "outputs": [],
   "source": [
    "# set path\n",
    "experiment_path = Path(str(ROOT) + f\"/project/exp_heavyweight_hybrid_cpu_reduced_{num_vars}_bonds.pkl\")"
   ]
  },
  {
   "cell_type": "code",
   "execution_count": 15,
   "metadata": {},
   "outputs": [],
   "source": [
    "# create an Experiment object from the hybrid results\n",
    "# use from_step3()\n",
    "experiment = Experiment.from_step3(\n",
    "    experiment_id=\"heavyweight_hybrid_run\",\n",
    "    ansatz=\"TwoLocal\",\n",
    "    ansatz_params={'reps': 2, 'entanglement': 'full'},\n",
    "    theta_initial=\"piby3\",\n",
    "    device=\"AerSimulator\",  # use AerSimulator instead\n",
    "    optimizer=\"nft\",\n",
    "    alpha=alpha,\n",
    "    theta_threshold=None,\n",
    "    lp_file=\"31bonds/docplex-bin-avgonly-nocplexvars.lp\",\n",
    "    shots=shots,\n",
    "    refx=None,      # set this for a reference solution\n",
    "    refvalue=None,  # set this for a reference value\n",
    "    classical_hw=Experiment.get_current_classical_hw(),\n",
    "    step3_time=end_time - start_time,\n",
    "    step3_job_ids=he.job_ids,\n",
    "    result=result,\n",
    "    optimization_monitor=he.optimization_monitor\n",
    ")\n",
    "\n",
    "# override step4 fields that were set to None in from_step3()\n",
    "experiment.step4_time = local_search_end - local_search_start\n",
    "experiment.step4_result_best_x = best_x_hybrid\n",
    "experiment.step4_result_best_fx = best_fx_hybrid\n",
    "experiment.step4_iter_best_fx = refined_solution.get('execution_f_value_best', [])\n",
    "\n",
    "# save the experiment for analysis\n",
    "experiment_path.parent.mkdir(parents=True, exist_ok=True)\n",
    "with open(experiment_path, 'wb') as f:\n",
    "    pickle.dump(asdict(experiment), f)"
   ]
  }
 ],
 "metadata": {
  "kernelspec": {
   "display_name": "Python 3 (ipykernel)",
   "language": "python",
   "name": "python3"
  },
  "language_info": {
   "codemirror_mode": {
    "name": "ipython",
    "version": 3
   },
   "file_extension": ".py",
   "mimetype": "text/x-python",
   "name": "python",
   "nbconvert_exporter": "python",
   "pygments_lexer": "ipython3",
   "version": "3.10.18"
  }
 },
 "nbformat": 4,
 "nbformat_minor": 4
}
